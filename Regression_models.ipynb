{
  "nbformat": 4,
  "nbformat_minor": 0,
  "metadata": {
    "colab": {
      "provenance": [],
      "collapsed_sections": [
        "JTVXu1aXviDe",
        "s-WTzyNp90Lt",
        "z_qXIxFONoi3",
        "690r-jUQoozM",
        "EYJ39eOnpMXR",
        "SBW_rUJZPPUl"
      ],
      "toc_visible": true
    },
    "kernelspec": {
      "name": "python3",
      "display_name": "Python 3"
    },
    "language_info": {
      "name": "python"
    },
    "accelerator": "GPU"
  },
  "cells": [
    {
      "cell_type": "code",
      "source": [
        "import numpy as np\n",
        "import pandas as pd\n",
        "import matplotlib.pyplot as plt\n",
        "%matplotlib inline\n",
        "import seaborn as sns\n",
        "from pandas_profiling import ProfileReport\n",
        "from sklearn.model_selection import train_test_split, validation_curve\n",
        "from sklearn.linear_model import LinearRegression\n",
        "from sklearn.metrics import r2_score\n",
        "import warnings\n",
        "warnings.filterwarnings(\"ignore\")"
      ],
      "metadata": {
        "id": "TRCnHsCCfDtG"
      },
      "execution_count": 72,
      "outputs": []
    },
    {
      "cell_type": "code",
      "source": [
        "## suppress install output\n",
        "%%capture\n",
        "## install developer version\n",
        "!pip install git+https://github.com/nickkunz/smogn.git"
      ],
      "metadata": {
        "id": "9zxaqbWO1SP1"
      },
      "execution_count": 73,
      "outputs": []
    },
    {
      "cell_type": "code",
      "source": [
        "import smogn"
      ],
      "metadata": {
        "id": "ehYLMApjZ8SG"
      },
      "execution_count": 74,
      "outputs": []
    },
    {
      "cell_type": "markdown",
      "source": [
        "#### Getting familiar with data"
      ],
      "metadata": {
        "id": "vrCGuun1nXZe"
      }
    },
    {
      "cell_type": "code",
      "source": [
        "df = pd.read_csv(\"/content/lets.csv\")"
      ],
      "metadata": {
        "id": "wjBwEv3BaPyf"
      },
      "execution_count": 128,
      "outputs": []
    },
    {
      "cell_type": "code",
      "source": [
        "df.columns = [x.strip() for x in df.columns]\n",
        "df.columns"
      ],
      "metadata": {
        "id": "rTBhE_lzgG_Q",
        "colab": {
          "base_uri": "https://localhost:8080/"
        },
        "outputId": "e9df7dd4-0db6-4040-f56c-8876e5805c83"
      },
      "execution_count": 129,
      "outputs": [
        {
          "output_type": "execute_result",
          "data": {
            "text/plain": [
              "Index(['name', 'spark.app.name', 'spark.executor.instances',\n",
              "       'spark.executor.cores', 'spark.executor.memory(GB)',\n",
              "       'input.size (1000 lines)', 'sumCpu (s  )', 'maxHeap (MB  )',\n",
              "       'maxNonHeap(MB  )', 'sumRun(s  )', 'sumjvmcpu(s  )', 'maxdrheap(MB  )',\n",
              "       'sumCpu (s  1/5)', 'maxHeap (MB  1/5)', 'maxNonHeap(MB  1/5)',\n",
              "       'sumRun(s  1/5)', 'sumjvmcpu(s  1/5)', 'maxdrheap(MB  1/5)',\n",
              "       'sumCpu (s  2/5)', 'maxHeap (MB  2/5)', 'maxNonHeap(MB  2/5)',\n",
              "       'sumRun(s  2/5)', 'sumjvmcpu(s  2/5)', 'maxdrheap(MB  2/5)',\n",
              "       'sumCpu (s  3/5)', 'maxHeap (MB  3/5)', 'maxNonHeap(MB  3/5)',\n",
              "       'sumRun(s  3/5)', 'sumjvmcpu(s  3/5)', 'maxdrheap(MB  3/5)',\n",
              "       'sumCpu (s  4/5)', 'maxHeap (MB  4/5)', 'maxNonHeap(MB  4/5)',\n",
              "       'sumRun(s  4/5)', 'sumjvmcpu(s  4/5)', 'maxdrheap(MB  4/5)'],\n",
              "      dtype='object')"
            ]
          },
          "metadata": {},
          "execution_count": 129
        }
      ]
    },
    {
      "cell_type": "code",
      "source": [
        "df.drop('name',axis = 1, inplace = True)\n",
        "df.rename(columns = {'spark.app.name':'op', 'spark.executor.instances':'instances', 'spark.executor.cores':'cores','spark.executor.memory(GB)':'memory', 'sumCpu (s  )': 'cpuTime', 'input.size (1000 lines)': 'input_size'}, inplace = True)"
      ],
      "metadata": {
        "id": "mXh0JYYMj_rk"
      },
      "execution_count": 130,
      "outputs": []
    },
    {
      "cell_type": "code",
      "source": [
        "df.columns"
      ],
      "metadata": {
        "colab": {
          "base_uri": "https://localhost:8080/"
        },
        "id": "i_ckJdlDdeDi",
        "outputId": "172a8e5a-ce05-4872-8fbf-45668edb69da"
      },
      "execution_count": 131,
      "outputs": [
        {
          "output_type": "execute_result",
          "data": {
            "text/plain": [
              "Index(['op', 'instances', 'cores', 'memory', 'input_size', 'cpuTime',\n",
              "       'maxHeap (MB  )', 'maxNonHeap(MB  )', 'sumRun(s  )', 'sumjvmcpu(s  )',\n",
              "       'maxdrheap(MB  )', 'sumCpu (s  1/5)', 'maxHeap (MB  1/5)',\n",
              "       'maxNonHeap(MB  1/5)', 'sumRun(s  1/5)', 'sumjvmcpu(s  1/5)',\n",
              "       'maxdrheap(MB  1/5)', 'sumCpu (s  2/5)', 'maxHeap (MB  2/5)',\n",
              "       'maxNonHeap(MB  2/5)', 'sumRun(s  2/5)', 'sumjvmcpu(s  2/5)',\n",
              "       'maxdrheap(MB  2/5)', 'sumCpu (s  3/5)', 'maxHeap (MB  3/5)',\n",
              "       'maxNonHeap(MB  3/5)', 'sumRun(s  3/5)', 'sumjvmcpu(s  3/5)',\n",
              "       'maxdrheap(MB  3/5)', 'sumCpu (s  4/5)', 'maxHeap (MB  4/5)',\n",
              "       'maxNonHeap(MB  4/5)', 'sumRun(s  4/5)', 'sumjvmcpu(s  4/5)',\n",
              "       'maxdrheap(MB  4/5)'],\n",
              "      dtype='object')"
            ]
          },
          "metadata": {},
          "execution_count": 131
        }
      ]
    },
    {
      "cell_type": "code",
      "source": [
        "df.replace([np.inf, -np.inf], np.mean, inplace=True)"
      ],
      "metadata": {
        "id": "vLuVXSr2tymJ"
      },
      "execution_count": 132,
      "outputs": []
    },
    {
      "cell_type": "markdown",
      "source": [
        "#### Dataset Selection "
      ],
      "metadata": {
        "id": "k4Xyc47Ze-zo"
      }
    },
    {
      "cell_type": "code",
      "source": [
        "# Option no1\n",
        "# df = df.filter(['op', 'instances', 'cores', 'memory', 'input_size', 'cpuTime',\n",
        "#        'maxHeap (MB  )', 'maxNonHeap(MB  )', 'sumRun(s  )', 'sumjvmcpu(s  )',\n",
        "#        'maxdrheap(MB  )'], axis=1)"
      ],
      "metadata": {
        "id": "nBI_u73vdgsv"
      },
      "execution_count": 80,
      "outputs": []
    },
    {
      "cell_type": "code",
      "source": [
        "# #Option no2\n",
        "# df = df.filter(['op', 'instances', 'cores', 'memory', 'input_size', 'cpuTime',\n",
        "#        'maxHeap (MB  )', 'maxNonHeap(MB  )', 'sumRun(s  )', 'sumjvmcpu(s  )',\n",
        "#        'maxdrheap(MB  )', 'sumCpu (s  1/5)', 'maxHeap (MB  1/5)',\n",
        "#        'maxNonHeap(MB  1/5)', 'sumRun(s  1/5)', 'sumjvmcpu(s  1/5)',\n",
        "#        'maxdrheap(MB  1/5)'], axis=1)\n",
        "\n",
        "#Option no3 \n",
        "# df = df.filter(['op', 'instances', 'cores', 'memory', 'input_size', 'cpuTime',\n",
        "#        'maxHeap (MB  )', 'maxNonHeap(MB  )', 'sumRun(s  )', 'sumjvmcpu(s  )',\n",
        "#        'maxdrheap(MB  )','sumCpu (s  2/5)', 'maxHeap (MB  2/5)',\n",
        "#        'maxNonHeap(MB  2/5)', 'sumRun(s  2/5)', 'sumjvmcpu(s  2/5)',\n",
        "#        'maxdrheap(MB  2/5)'], axis=1)\n",
        "\n",
        "# #Option no4\n",
        "# df = df.filter(['op', 'instances', 'cores', 'memory', 'input_size', 'cpuTime',\n",
        "#        'maxHeap (MB  )', 'maxNonHeap(MB  )', 'sumRun(s  )', 'sumjvmcpu(s  )',\n",
        "#        'maxdrheap(MB  )', 'sumCpu (s  3/5)', 'maxHeap (MB  3/5)',\n",
        "#        'maxNonHeap(MB  3/5)', 'sumRun(s  3/5)', 'sumjvmcpu(s  3/5)',\n",
        "#        'maxdrheap(MB  3/5)'], axis=1)\n",
        "\n",
        "#Option no5\n",
        "# df = df.filter(['op', 'instances', 'cores', 'memory', 'input_size', 'cpuTime',\n",
        "#        'maxHeap (MB  )', 'maxNonHeap(MB  )', 'sumRun(s  )', 'sumjvmcpu(s  )',\n",
        "#        'maxdrheap(MB  )','sumCpu (s  4/5)', 'maxHeap (MB  4/5)',\n",
        "#        'maxNonHeap(MB  4/5)', 'sumRun(s  4/5)', 'sumjvmcpu(s  4/5)',\n",
        "#        'maxdrheap(MB  4/5)'], axis=1)"
      ],
      "metadata": {
        "id": "7YRBUo-OfL-x"
      },
      "execution_count": null,
      "outputs": []
    },
    {
      "cell_type": "code",
      "source": [
        "# Option no6\n",
        "df = df.filter(['op', 'instances', 'cores', 'memory', 'input_size', 'cpuTime',\n",
        "       'maxHeap (MB  )', 'maxNonHeap(MB  )', 'sumRun(s  )', 'sumjvmcpu(s  )',\n",
        "       'maxdrheap(MB  )','sumCpu (s  2/5)', 'maxHeap (MB  2/5)',\n",
        "       'maxNonHeap(MB  2/5)', 'sumRun(s  2/5)', 'sumjvmcpu(s  2/5)',\n",
        "       'maxdrheap(MB  2/5)', 'sumCpu (s  3/5)', 'maxHeap (MB  3/5)',\n",
        "       'maxNonHeap(MB  3/5)', 'sumRun(s  3/5)', 'sumjvmcpu(s  3/5)',\n",
        "       'maxdrheap(MB  3/5)'], axis=1)"
      ],
      "metadata": {
        "id": "oqSf52JKsnD5"
      },
      "execution_count": 134,
      "outputs": []
    },
    {
      "cell_type": "code",
      "source": [
        "df.shape"
      ],
      "metadata": {
        "colab": {
          "base_uri": "https://localhost:8080/"
        },
        "id": "pBR5G7YlggSq",
        "outputId": "f33cae24-bc54-40a9-f185-f6d1c1c1392a"
      },
      "execution_count": 135,
      "outputs": [
        {
          "output_type": "execute_result",
          "data": {
            "text/plain": [
              "(1688, 23)"
            ]
          },
          "metadata": {},
          "execution_count": 135
        }
      ]
    },
    {
      "cell_type": "markdown",
      "source": [
        "#### Little EDA\n"
      ],
      "metadata": {
        "id": "TUvY0x0WXVVi"
      }
    },
    {
      "cell_type": "code",
      "source": [
        "df.columns"
      ],
      "metadata": {
        "colab": {
          "base_uri": "https://localhost:8080/"
        },
        "id": "pLshmGFUPBSj",
        "outputId": "97afb249-7d0a-4586-a301-46415b452b05"
      },
      "execution_count": 124,
      "outputs": [
        {
          "output_type": "execute_result",
          "data": {
            "text/plain": [
              "Index(['op', 'instances', 'cores', 'memory', 'input_size', 'cpuTime',\n",
              "       'maxHeap (MB  )', 'maxNonHeap(MB  )', 'sumRun(s  )', 'sumjvmcpu(s  )',\n",
              "       'maxdrheap(MB  )'],\n",
              "      dtype='object')"
            ]
          },
          "metadata": {},
          "execution_count": 124
        }
      ]
    },
    {
      "cell_type": "code",
      "source": [
        "X_data=df.dtypes[df.dtypes!='object'].index\n",
        "X_corr=df[X_data]"
      ],
      "metadata": {
        "id": "bsbyqFa4C16N"
      },
      "execution_count": 125,
      "outputs": []
    },
    {
      "cell_type": "code",
      "source": [
        "# GETTING Correllation matrix\n",
        "corr_mat=X_corr.corr(method='pearson')\n",
        "# plt.figure(figsize=(20,10))\n",
        "sns.heatmap(corr_mat,vmax=1,square=True,annot=True,cmap='cubehelix')"
      ],
      "metadata": {
        "colab": {
          "base_uri": "https://localhost:8080/",
          "height": 606
        },
        "id": "qPxZZTVvDeo0",
        "outputId": "832727ac-05b8-4599-d684-620db7905688"
      },
      "execution_count": 126,
      "outputs": [
        {
          "output_type": "execute_result",
          "data": {
            "text/plain": [
              "<matplotlib.axes._subplots.AxesSubplot at 0x7f871a960ed0>"
            ]
          },
          "metadata": {},
          "execution_count": 126
        },
        {
          "output_type": "display_data",
          "data": {
            "text/plain": [
              "<Figure size 576x720 with 2 Axes>"
            ],
            "image/png": "[encoded data removed]"
          },
          "metadata": {
            "needs_background": "light"
          }
        }
      ]
    },
    {
      "cell_type": "code",
      "source": [
        "# #pairplot\n",
        "sns.pairplot(X_corr)\n",
        "\n",
        "# #we will log the cpuTime Column\n",
        "X_corr.cpuTime = np.log(X_corr.cpuTime)"
      ],
      "metadata": {
        "id": "6Q3anEX9yAmw"
      },
      "execution_count": null,
      "outputs": []
    },
    {
      "cell_type": "code",
      "source": [
        "#Correlation with output variable\n",
        "cor_target = abs(corr_mat[\"maxHeap (MB  )\"])\n",
        "#Selecting highly correlated features\n",
        "relevant_features = cor_target[cor_target>0.5]\n",
        "relevant_features.sort_values(ascending = False)"
      ],
      "metadata": {
        "colab": {
          "base_uri": "https://localhost:8080/"
        },
        "id": "Wnm-hTmeDlUn",
        "outputId": "d9f5d732-87b0-4cdf-feee-752b681548c0"
      },
      "execution_count": 85,
      "outputs": [
        {
          "output_type": "execute_result",
          "data": {
            "text/plain": [
              "maxHeap (MB  )     1.000000\n",
              "memory             0.834561\n",
              "maxdrheap(MB  )    0.706294\n",
              "Name: maxHeap (MB  ), dtype: float64"
            ]
          },
          "metadata": {},
          "execution_count": 85
        }
      ]
    },
    {
      "cell_type": "markdown",
      "source": [
        " One of the assumptions of linear regression is that the independent variables need to be uncorrelated with each other. If these variables are correlated with each other, then we need to keep only one of them and drop the rest. "
      ],
      "metadata": {
        "id": "mpAYUCVjGDk7"
      }
    },
    {
      "cell_type": "code",
      "source": [
        "print(df[[\"input_size\",\"maxNonHeap(MB  )\"]].corr())\n",
        "print(df[[\"maxNonHeap(MB  )\",\"sumRun(s  )\"]].corr())\n",
        "print(df[[\"input_size\",\"sumRun(s  )\"]].corr())\n",
        "print(df[[\"sumjvmcpu(s  )\",\"sumRun(s  )\"]].corr())\n",
        "print(df[[\"input_size\",\"sumjvmcpu(s  )\"]].corr())\n",
        "print(df[[\"sumjvmcpu(s  )\",\"maxNonHeap(MB  )\"]].corr())"
      ],
      "metadata": {
        "colab": {
          "base_uri": "https://localhost:8080/"
        },
        "id": "GF9oKUD9Fi56",
        "outputId": "26ea93a2-4ee4-40a5-ecc5-e0fcaeb2cbd7"
      },
      "execution_count": 86,
      "outputs": [
        {
          "output_type": "stream",
          "name": "stdout",
          "text": [
            "                  input_size  maxNonHeap(MB  )\n",
            "input_size          1.000000          0.061104\n",
            "maxNonHeap(MB  )    0.061104          1.000000\n",
            "                  maxNonHeap(MB  )  sumRun(s  )\n",
            "maxNonHeap(MB  )          1.000000     0.496204\n",
            "sumRun(s  )               0.496204     1.000000\n",
            "             input_size  sumRun(s  )\n",
            "input_size     1.000000     0.634598\n",
            "sumRun(s  )    0.634598     1.000000\n",
            "                sumjvmcpu(s  )  sumRun(s  )\n",
            "sumjvmcpu(s  )        1.000000     0.908564\n",
            "sumRun(s  )           0.908564     1.000000\n",
            "                input_size  sumjvmcpu(s  )\n",
            "input_size        1.000000        0.502757\n",
            "sumjvmcpu(s  )    0.502757        1.000000\n",
            "                  sumjvmcpu(s  )  maxNonHeap(MB  )\n",
            "sumjvmcpu(s  )          1.000000          0.482079\n",
            "maxNonHeap(MB  )        0.482079          1.000000\n"
          ]
        }
      ]
    },
    {
      "cell_type": "code",
      "source": [
        "df[(df.cores == 3)& (df.op == 'LogisticRegressionWithElasticNet  ')].query(\"cpuTime >50\")\n",
        "# .value_counts().sum()"
      ],
      "metadata": {
        "colab": {
          "base_uri": "https://localhost:8080/",
          "height": 708
        },
        "id": "BmjTGL2NXY9Y",
        "outputId": "c320839f-258d-4ea1-cadc-8e2fdc905864"
      },
      "execution_count": 87,
      "outputs": [
        {
          "output_type": "execute_result",
          "data": {
            "text/plain": [
              "                                      op  instances  cores  memory  \\\n",
              "185   LogisticRegressionWithElasticNet            3      3       1   \n",
              "186   LogisticRegressionWithElasticNet            3      3       1   \n",
              "187   LogisticRegressionWithElasticNet            3      3       1   \n",
              "425   LogisticRegressionWithElasticNet            3      3       2   \n",
              "426   LogisticRegressionWithElasticNet            3      3       2   \n",
              "427   LogisticRegressionWithElasticNet            3      3       2   \n",
              "665   LogisticRegressionWithElasticNet            3      3       3   \n",
              "666   LogisticRegressionWithElasticNet            3      3       3   \n",
              "667   LogisticRegressionWithElasticNet            3      3       3   \n",
              "905   LogisticRegressionWithElasticNet            3      3       4   \n",
              "906   LogisticRegressionWithElasticNet            3      3       4   \n",
              "907   LogisticRegressionWithElasticNet            3      3       4   \n",
              "1145  LogisticRegressionWithElasticNet            3      3       5   \n",
              "1146  LogisticRegressionWithElasticNet            3      3       5   \n",
              "1147  LogisticRegressionWithElasticNet            3      3       5   \n",
              "1385  LogisticRegressionWithElasticNet            3      3       6   \n",
              "1386  LogisticRegressionWithElasticNet            3      3       6   \n",
              "1387  LogisticRegressionWithElasticNet            3      3       6   \n",
              "1625  LogisticRegressionWithElasticNet            3      3       7   \n",
              "1626  LogisticRegressionWithElasticNet            3      3       7   \n",
              "1627  LogisticRegressionWithElasticNet            3      3       7   \n",
              "\n",
              "      input_size  cpuTime  maxHeap (MB  )  maxNonHeap(MB  )  sumRun(s  )  \\\n",
              "185          342       53             507                85           87   \n",
              "186          390       57             555                85           92   \n",
              "187          438       63             579                85           99   \n",
              "425          342       53             814                86           86   \n",
              "426          390       57             853                85           90   \n",
              "427          438       62             880                85           98   \n",
              "665          342       54            1177                85           86   \n",
              "666          390       57            1198                85           90   \n",
              "667          438       64            1250                85           99   \n",
              "905          342       54            1517                85           85   \n",
              "906          390       56            1459                86           90   \n",
              "907          438       62            1482                85           96   \n",
              "1145         342       54            1853                85           86   \n",
              "1146         390       58            1809                85           90   \n",
              "1147         438       65            1775                85           98   \n",
              "1385         342       53            2052                85           85   \n",
              "1386         390       60            1867                86           93   \n",
              "1387         438       64            2091                86           99   \n",
              "1625         342       54            2314                85           87   \n",
              "1626         390       59            2428                85           91   \n",
              "1627         438       64            2411                86           97   \n",
              "\n",
              "      sumjvmcpu(s  )  maxdrheap(MB  )  \n",
              "185              105             1192  \n",
              "186              109             1192  \n",
              "187              116             1192  \n",
              "425              105             2830  \n",
              "426              108             2830  \n",
              "427              115             2830  \n",
              "665              105             4469  \n",
              "666              107             4469  \n",
              "667              118             4469  \n",
              "905              105             6107  \n",
              "906              108             6107  \n",
              "907              114             6107  \n",
              "1145             105             7745  \n",
              "1146             110             7745  \n",
              "1147             116             7745  \n",
              "1385             105             9383  \n",
              "1386             113             9383  \n",
              "1387             119             9383  \n",
              "1625             105            11022  \n",
              "1626             112            11022  \n",
              "1627             117            11022  "
            ],
            "text/html": [
              "\n",
              "  <div id=\"df-d3711fe6-f1d3-4b6f-8ab2-275da34e50b7\">\n",
              "    <div class=\"colab-df-container\">\n",
              "      <div>\n",
              "<style scoped>\n",
              "    .dataframe tbody tr th:only-of-type {\n",
              "        vertical-align: middle;\n",
              "    }\n",
              "\n",
              "    .dataframe tbody tr th {\n",
              "        vertical-align: top;\n",
              "    }\n",
              "\n",
              "    .dataframe thead th {\n",
              "        text-align: right;\n",
              "    }\n",
              "</style>\n",
              "<table border=\"1\" class=\"dataframe\">\n",
              "  <thead>\n",
              "    <tr style=\"text-align: right;\">\n",
              "      <th></th>\n",
              "      <th>op</th>\n",
              "      <th>instances</th>\n",
              "      <th>cores</th>\n",
              "      <th>memory</th>\n",
              "      <th>input_size</th>\n",
              "      <th>cpuTime</th>\n",
              "      <th>maxHeap (MB  )</th>\n",
              "      <th>maxNonHeap(MB  )</th>\n",
              "      <th>sumRun(s  )</th>\n",
              "      <th>sumjvmcpu(s  )</th>\n",
              "      <th>maxdrheap(MB  )</th>\n",
              "    </tr>\n",
              "  </thead>\n",
              "  <tbody>\n",
              "    <tr>\n",
              "      <th>185</th>\n",
              "      <td>LogisticRegressionWithElasticNet</td>\n",
              "      <td>3</td>\n",
              "      <td>3</td>\n",
              "      <td>1</td>\n",
              "      <td>342</td>\n",
              "      <td>53</td>\n",
              "      <td>507</td>\n",
              "      <td>85</td>\n",
              "      <td>87</td>\n",
              "      <td>105</td>\n",
              "      <td>1192</td>\n",
              "    </tr>\n",
              "    <tr>\n",
              "      <th>186</th>\n",
              "      <td>LogisticRegressionWithElasticNet</td>\n",
              "      <td>3</td>\n",
              "      <td>3</td>\n",
              "      <td>1</td>\n",
              "      <td>390</td>\n",
              "      <td>57</td>\n",
              "      <td>555</td>\n",
              "      <td>85</td>\n",
              "      <td>92</td>\n",
              "      <td>109</td>\n",
              "      <td>1192</td>\n",
              "    </tr>\n",
              "    <tr>\n",
              "      <th>187</th>\n",
              "      <td>LogisticRegressionWithElasticNet</td>\n",
              "      <td>3</td>\n",
              "      <td>3</td>\n",
              "      <td>1</td>\n",
              "      <td>438</td>\n",
              "      <td>63</td>\n",
              "      <td>579</td>\n",
              "      <td>85</td>\n",
              "      <td>99</td>\n",
              "      <td>116</td>\n",
              "      <td>1192</td>\n",
              "    </tr>\n",
              "    <tr>\n",
              "      <th>425</th>\n",
              "      <td>LogisticRegressionWithElasticNet</td>\n",
              "      <td>3</td>\n",
              "      <td>3</td>\n",
              "      <td>2</td>\n",
              "      <td>342</td>\n",
              "      <td>53</td>\n",
              "      <td>814</td>\n",
              "      <td>86</td>\n",
              "      <td>86</td>\n",
              "      <td>105</td>\n",
              "      <td>2830</td>\n",
              "    </tr>\n",
              "    <tr>\n",
              "      <th>426</th>\n",
              "      <td>LogisticRegressionWithElasticNet</td>\n",
              "      <td>3</td>\n",
              "      <td>3</td>\n",
              "      <td>2</td>\n",
              "      <td>390</td>\n",
              "      <td>57</td>\n",
              "      <td>853</td>\n",
              "      <td>85</td>\n",
              "      <td>90</td>\n",
              "      <td>108</td>\n",
              "      <td>2830</td>\n",
              "    </tr>\n",
              "    <tr>\n",
              "      <th>427</th>\n",
              "      <td>LogisticRegressionWithElasticNet</td>\n",
              "      <td>3</td>\n",
              "      <td>3</td>\n",
              "      <td>2</td>\n",
              "      <td>438</td>\n",
              "      <td>62</td>\n",
              "      <td>880</td>\n",
              "      <td>85</td>\n",
              "      <td>98</td>\n",
              "      <td>115</td>\n",
              "      <td>2830</td>\n",
              "    </tr>\n",
              "    <tr>\n",
              "      <th>665</th>\n",
              "      <td>LogisticRegressionWithElasticNet</td>\n",
              "      <td>3</td>\n",
              "      <td>3</td>\n",
              "      <td>3</td>\n",
              "      <td>342</td>\n",
              "      <td>54</td>\n",
              "      <td>1177</td>\n",
              "      <td>85</td>\n",
              "      <td>86</td>\n",
              "      <td>105</td>\n",
              "      <td>4469</td>\n",
              "    </tr>\n",
              "    <tr>\n",
              "      <th>666</th>\n",
              "      <td>LogisticRegressionWithElasticNet</td>\n",
              "      <td>3</td>\n",
              "      <td>3</td>\n",
              "      <td>3</td>\n",
              "      <td>390</td>\n",
              "      <td>57</td>\n",
              "      <td>1198</td>\n",
              "      <td>85</td>\n",
              "      <td>90</td>\n",
              "      <td>107</td>\n",
              "      <td>4469</td>\n",
              "    </tr>\n",
              "    <tr>\n",
              "      <th>667</th>\n",
              "      <td>LogisticRegressionWithElasticNet</td>\n",
              "      <td>3</td>\n",
              "      <td>3</td>\n",
              "      <td>3</td>\n",
              "      <td>438</td>\n",
              "      <td>64</td>\n",
              "      <td>1250</td>\n",
              "      <td>85</td>\n",
              "      <td>99</td>\n",
              "      <td>118</td>\n",
              "      <td>4469</td>\n",
              "    </tr>\n",
              "    <tr>\n",
              "      <th>905</th>\n",
              "      <td>LogisticRegressionWithElasticNet</td>\n",
              "      <td>3</td>\n",
              "      <td>3</td>\n",
              "      <td>4</td>\n",
              "      <td>342</td>\n",
              "      <td>54</td>\n",
              "      <td>1517</td>\n",
              "      <td>85</td>\n",
              "      <td>85</td>\n",
              "      <td>105</td>\n",
              "      <td>6107</td>\n",
              "    </tr>\n",
              "    <tr>\n",
              "      <th>906</th>\n",
              "      <td>LogisticRegressionWithElasticNet</td>\n",
              "      <td>3</td>\n",
              "      <td>3</td>\n",
              "      <td>4</td>\n",
              "      <td>390</td>\n",
              "      <td>56</td>\n",
              "      <td>1459</td>\n",
              "      <td>86</td>\n",
              "      <td>90</td>\n",
              "      <td>108</td>\n",
              "      <td>6107</td>\n",
              "    </tr>\n",
              "    <tr>\n",
              "      <th>907</th>\n",
              "      <td>LogisticRegressionWithElasticNet</td>\n",
              "      <td>3</td>\n",
              "      <td>3</td>\n",
              "      <td>4</td>\n",
              "      <td>438</td>\n",
              "      <td>62</td>\n",
              "      <td>1482</td>\n",
              "      <td>85</td>\n",
              "      <td>96</td>\n",
              "      <td>114</td>\n",
              "      <td>6107</td>\n",
              "    </tr>\n",
              "    <tr>\n",
              "      <th>1145</th>\n",
              "      <td>LogisticRegressionWithElasticNet</td>\n",
              "      <td>3</td>\n",
              "      <td>3</td>\n",
              "      <td>5</td>\n",
              "      <td>342</td>\n",
              "      <td>54</td>\n",
              "      <td>1853</td>\n",
              "      <td>85</td>\n",
              "      <td>86</td>\n",
              "      <td>105</td>\n",
              "      <td>7745</td>\n",
              "    </tr>\n",
              "    <tr>\n",
              "      <th>1146</th>\n",
              "      <td>LogisticRegressionWithElasticNet</td>\n",
              "      <td>3</td>\n",
              "      <td>3</td>\n",
              "      <td>5</td>\n",
              "      <td>390</td>\n",
              "      <td>58</td>\n",
              "      <td>1809</td>\n",
              "      <td>85</td>\n",
              "      <td>90</td>\n",
              "      <td>110</td>\n",
              "      <td>7745</td>\n",
              "    </tr>\n",
              "    <tr>\n",
              "      <th>1147</th>\n",
              "      <td>LogisticRegressionWithElasticNet</td>\n",
              "      <td>3</td>\n",
              "      <td>3</td>\n",
              "      <td>5</td>\n",
              "      <td>438</td>\n",
              "      <td>65</td>\n",
              "      <td>1775</td>\n",
              "      <td>85</td>\n",
              "      <td>98</td>\n",
              "      <td>116</td>\n",
              "      <td>7745</td>\n",
              "    </tr>\n",
              "    <tr>\n",
              "      <th>1385</th>\n",
              "      <td>LogisticRegressionWithElasticNet</td>\n",
              "      <td>3</td>\n",
              "      <td>3</td>\n",
              "      <td>6</td>\n",
              "      <td>342</td>\n",
              "      <td>53</td>\n",
              "      <td>2052</td>\n",
              "      <td>85</td>\n",
              "      <td>85</td>\n",
              "      <td>105</td>\n",
              "      <td>9383</td>\n",
              "    </tr>\n",
              "    <tr>\n",
              "      <th>1386</th>\n",
              "      <td>LogisticRegressionWithElasticNet</td>\n",
              "      <td>3</td>\n",
              "      <td>3</td>\n",
              "      <td>6</td>\n",
              "      <td>390</td>\n",
              "      <td>60</td>\n",
              "      <td>1867</td>\n",
              "      <td>86</td>\n",
              "      <td>93</td>\n",
              "      <td>113</td>\n",
              "      <td>9383</td>\n",
              "    </tr>\n",
              "    <tr>\n",
              "      <th>1387</th>\n",
              "      <td>LogisticRegressionWithElasticNet</td>\n",
              "      <td>3</td>\n",
              "      <td>3</td>\n",
              "      <td>6</td>\n",
              "      <td>438</td>\n",
              "      <td>64</td>\n",
              "      <td>2091</td>\n",
              "      <td>86</td>\n",
              "      <td>99</td>\n",
              "      <td>119</td>\n",
              "      <td>9383</td>\n",
              "    </tr>\n",
              "    <tr>\n",
              "      <th>1625</th>\n",
              "      <td>LogisticRegressionWithElasticNet</td>\n",
              "      <td>3</td>\n",
              "      <td>3</td>\n",
              "      <td>7</td>\n",
              "      <td>342</td>\n",
              "      <td>54</td>\n",
              "      <td>2314</td>\n",
              "      <td>85</td>\n",
              "      <td>87</td>\n",
              "      <td>105</td>\n",
              "      <td>11022</td>\n",
              "    </tr>\n",
              "    <tr>\n",
              "      <th>1626</th>\n",
              "      <td>LogisticRegressionWithElasticNet</td>\n",
              "      <td>3</td>\n",
              "      <td>3</td>\n",
              "      <td>7</td>\n",
              "      <td>390</td>\n",
              "      <td>59</td>\n",
              "      <td>2428</td>\n",
              "      <td>85</td>\n",
              "      <td>91</td>\n",
              "      <td>112</td>\n",
              "      <td>11022</td>\n",
              "    </tr>\n",
              "    <tr>\n",
              "      <th>1627</th>\n",
              "      <td>LogisticRegressionWithElasticNet</td>\n",
              "      <td>3</td>\n",
              "      <td>3</td>\n",
              "      <td>7</td>\n",
              "      <td>438</td>\n",
              "      <td>64</td>\n",
              "      <td>2411</td>\n",
              "      <td>86</td>\n",
              "      <td>97</td>\n",
              "      <td>117</td>\n",
              "      <td>11022</td>\n",
              "    </tr>\n",
              "  </tbody>\n",
              "</table>\n",
              "</div>\n",
              "      <button class=\"colab-df-convert\" onclick=\"convertToInteractive('df-d3711fe6-f1d3-4b6f-8ab2-275da34e50b7')\"\n",
              "              title=\"Convert this dataframe to an interactive table.\"\n",
              "              style=\"display:none;\">\n",
              "        \n",
              "  <svg xmlns=\"http://www.w3.org/2000/svg\" height=\"24px\"viewBox=\"0 0 24 24\"\n",
              "       width=\"24px\">\n",
              "    <path d=\"M0 0h24v24H0V0z\" fill=\"none\"/>\n",
              "    <path d=\"M18.56 5.44l.94 2.06.94-2.06 2.06-.94-2.06-.94-.94-2.06-.94 2.06-2.06.94zm-11 1L8.5 8.5l.94-2.06 2.06-.94-2.06-.94L8.5 2.5l-.94 2.06-2.06.94zm10 10l.94 2.06.94-2.06 2.06-.94-2.06-.94-.94-2.06-.94 2.06-2.06.94z\"/><path d=\"M17.41 7.96l-1.37-1.37c-.4-.4-.92-.59-1.43-.59-.52 0-1.04.2-1.43.59L10.3 9.45l-7.72 7.72c-.78.78-.78 2.05 0 2.83L4 21.41c.39.39.9.59 1.41.59.51 0 1.02-.2 1.41-.59l7.78-7.78 2.81-2.81c.8-.78.8-2.07 0-2.86zM5.41 20L4 18.59l7.72-7.72 1.47 1.35L5.41 20z\"/>\n",
              "  </svg>\n",
              "      </button>\n",
              "      \n",
              "  <style>\n",
              "    .colab-df-container {\n",
              "      display:flex;\n",
              "      flex-wrap:wrap;\n",
              "      gap: 12px;\n",
              "    }\n",
              "\n",
              "    .colab-df-convert {\n",
              "      background-color: #E8F0FE;\n",
              "      border: none;\n",
              "      border-radius: 50%;\n",
              "      cursor: pointer;\n",
              "      display: none;\n",
              "      fill: #1967D2;\n",
              "      height: 32px;\n",
              "      padding: 0 0 0 0;\n",
              "      width: 32px;\n",
              "    }\n",
              "\n",
              "    .colab-df-convert:hover {\n",
              "      background-color: #E2EBFA;\n",
              "      box-shadow: 0px 1px 2px rgba(60, 64, 67, 0.3), 0px 1px 3px 1px rgba(60, 64, 67, 0.15);\n",
              "      fill: #174EA6;\n",
              "    }\n",
              "\n",
              "    [theme=dark] .colab-df-convert {\n",
              "      background-color: #3B4455;\n",
              "      fill: #D2E3FC;\n",
              "    }\n",
              "\n",
              "    [theme=dark] .colab-df-convert:hover {\n",
              "      background-color: #434B5C;\n",
              "      box-shadow: 0px 1px 3px 1px rgba(0, 0, 0, 0.15);\n",
              "      filter: drop-shadow(0px 1px 2px rgba(0, 0, 0, 0.3));\n",
              "      fill: #FFFFFF;\n",
              "    }\n",
              "  </style>\n",
              "\n",
              "      <script>\n",
              "        const buttonEl =\n",
              "          document.querySelector('#df-d3711fe6-f1d3-4b6f-8ab2-275da34e50b7 button.colab-df-convert');\n",
              "        buttonEl.style.display =\n",
              "          google.colab.kernel.accessAllowed ? 'block' : 'none';\n",
              "\n",
              "        async function convertToInteractive(key) {\n",
              "          const element = document.querySelector('#df-d3711fe6-f1d3-4b6f-8ab2-275da34e50b7');\n",
              "          const dataTable =\n",
              "            await google.colab.kernel.invokeFunction('convertToInteractive',\n",
              "                                                     [key], {});\n",
              "          if (!dataTable) return;\n",
              "\n",
              "          const docLinkHtml = 'Like what you see? Visit the ' +\n",
              "            '<a target=\"_blank\" href=https://colab.research.google.com/notebooks/data_table.ipynb>data table notebook</a>'\n",
              "            + ' to learn more about interactive tables.';\n",
              "          element.innerHTML = '';\n",
              "          dataTable['output_type'] = 'display_data';\n",
              "          await google.colab.output.renderOutput(dataTable, element);\n",
              "          const docLink = document.createElement('div');\n",
              "          docLink.innerHTML = docLinkHtml;\n",
              "          element.appendChild(docLink);\n",
              "        }\n",
              "      </script>\n",
              "    </div>\n",
              "  </div>\n",
              "  "
            ]
          },
          "metadata": {},
          "execution_count": 87
        }
      ]
    },
    {
      "cell_type": "code",
      "source": [
        "max = df[\"cpuTime\"].max()\n",
        "df[df.cpuTime == max]"
      ],
      "metadata": {
        "colab": {
          "base_uri": "https://localhost:8080/",
          "height": 81
        },
        "id": "qtLhL2WabrZR",
        "outputId": "aacdaa58-a7f7-4ebb-b6b4-db522ed9f9c2"
      },
      "execution_count": 88,
      "outputs": [
        {
          "output_type": "execute_result",
          "data": {
            "text/plain": [
              "                                    op  instances  cores  memory  input_size  \\\n",
              "19  RandomForestClassifierExample              12      1       1         438   \n",
              "\n",
              "    cpuTime  maxHeap (MB  )  maxNonHeap(MB  )  sumRun(s  )  sumjvmcpu(s  )  \\\n",
              "19      196             523                98          373             470   \n",
              "\n",
              "    maxdrheap(MB  )  \n",
              "19             4488  "
            ],
            "text/html": [
              "\n",
              "  <div id=\"df-2bd2517f-e778-41d5-baac-f7b27c161f6e\">\n",
              "    <div class=\"colab-df-container\">\n",
              "      <div>\n",
              "<style scoped>\n",
              "    .dataframe tbody tr th:only-of-type {\n",
              "        vertical-align: middle;\n",
              "    }\n",
              "\n",
              "    .dataframe tbody tr th {\n",
              "        vertical-align: top;\n",
              "    }\n",
              "\n",
              "    .dataframe thead th {\n",
              "        text-align: right;\n",
              "    }\n",
              "</style>\n",
              "<table border=\"1\" class=\"dataframe\">\n",
              "  <thead>\n",
              "    <tr style=\"text-align: right;\">\n",
              "      <th></th>\n",
              "      <th>op</th>\n",
              "      <th>instances</th>\n",
              "      <th>cores</th>\n",
              "      <th>memory</th>\n",
              "      <th>input_size</th>\n",
              "      <th>cpuTime</th>\n",
              "      <th>maxHeap (MB  )</th>\n",
              "      <th>maxNonHeap(MB  )</th>\n",
              "      <th>sumRun(s  )</th>\n",
              "      <th>sumjvmcpu(s  )</th>\n",
              "      <th>maxdrheap(MB  )</th>\n",
              "    </tr>\n",
              "  </thead>\n",
              "  <tbody>\n",
              "    <tr>\n",
              "      <th>19</th>\n",
              "      <td>RandomForestClassifierExample</td>\n",
              "      <td>12</td>\n",
              "      <td>1</td>\n",
              "      <td>1</td>\n",
              "      <td>438</td>\n",
              "      <td>196</td>\n",
              "      <td>523</td>\n",
              "      <td>98</td>\n",
              "      <td>373</td>\n",
              "      <td>470</td>\n",
              "      <td>4488</td>\n",
              "    </tr>\n",
              "  </tbody>\n",
              "</table>\n",
              "</div>\n",
              "      <button class=\"colab-df-convert\" onclick=\"convertToInteractive('df-2bd2517f-e778-41d5-baac-f7b27c161f6e')\"\n",
              "              title=\"Convert this dataframe to an interactive table.\"\n",
              "              style=\"display:none;\">\n",
              "        \n",
              "  <svg xmlns=\"http://www.w3.org/2000/svg\" height=\"24px\"viewBox=\"0 0 24 24\"\n",
              "       width=\"24px\">\n",
              "    <path d=\"M0 0h24v24H0V0z\" fill=\"none\"/>\n",
              "    <path d=\"M18.56 5.44l.94 2.06.94-2.06 2.06-.94-2.06-.94-.94-2.06-.94 2.06-2.06.94zm-11 1L8.5 8.5l.94-2.06 2.06-.94-2.06-.94L8.5 2.5l-.94 2.06-2.06.94zm10 10l.94 2.06.94-2.06 2.06-.94-2.06-.94-.94-2.06-.94 2.06-2.06.94z\"/><path d=\"M17.41 7.96l-1.37-1.37c-.4-.4-.92-.59-1.43-.59-.52 0-1.04.2-1.43.59L10.3 9.45l-7.72 7.72c-.78.78-.78 2.05 0 2.83L4 21.41c.39.39.9.59 1.41.59.51 0 1.02-.2 1.41-.59l7.78-7.78 2.81-2.81c.8-.78.8-2.07 0-2.86zM5.41 20L4 18.59l7.72-7.72 1.47 1.35L5.41 20z\"/>\n",
              "  </svg>\n",
              "      </button>\n",
              "      \n",
              "  <style>\n",
              "    .colab-df-container {\n",
              "      display:flex;\n",
              "      flex-wrap:wrap;\n",
              "      gap: 12px;\n",
              "    }\n",
              "\n",
              "    .colab-df-convert {\n",
              "      background-color: #E8F0FE;\n",
              "      border: none;\n",
              "      border-radius: 50%;\n",
              "      cursor: pointer;\n",
              "      display: none;\n",
              "      fill: #1967D2;\n",
              "      height: 32px;\n",
              "      padding: 0 0 0 0;\n",
              "      width: 32px;\n",
              "    }\n",
              "\n",
              "    .colab-df-convert:hover {\n",
              "      background-color: #E2EBFA;\n",
              "      box-shadow: 0px 1px 2px rgba(60, 64, 67, 0.3), 0px 1px 3px 1px rgba(60, 64, 67, 0.15);\n",
              "      fill: #174EA6;\n",
              "    }\n",
              "\n",
              "    [theme=dark] .colab-df-convert {\n",
              "      background-color: #3B4455;\n",
              "      fill: #D2E3FC;\n",
              "    }\n",
              "\n",
              "    [theme=dark] .colab-df-convert:hover {\n",
              "      background-color: #434B5C;\n",
              "      box-shadow: 0px 1px 3px 1px rgba(0, 0, 0, 0.15);\n",
              "      filter: drop-shadow(0px 1px 2px rgba(0, 0, 0, 0.3));\n",
              "      fill: #FFFFFF;\n",
              "    }\n",
              "  </style>\n",
              "\n",
              "      <script>\n",
              "        const buttonEl =\n",
              "          document.querySelector('#df-2bd2517f-e778-41d5-baac-f7b27c161f6e button.colab-df-convert');\n",
              "        buttonEl.style.display =\n",
              "          google.colab.kernel.accessAllowed ? 'block' : 'none';\n",
              "\n",
              "        async function convertToInteractive(key) {\n",
              "          const element = document.querySelector('#df-2bd2517f-e778-41d5-baac-f7b27c161f6e');\n",
              "          const dataTable =\n",
              "            await google.colab.kernel.invokeFunction('convertToInteractive',\n",
              "                                                     [key], {});\n",
              "          if (!dataTable) return;\n",
              "\n",
              "          const docLinkHtml = 'Like what you see? Visit the ' +\n",
              "            '<a target=\"_blank\" href=https://colab.research.google.com/notebooks/data_table.ipynb>data table notebook</a>'\n",
              "            + ' to learn more about interactive tables.';\n",
              "          element.innerHTML = '';\n",
              "          dataTable['output_type'] = 'display_data';\n",
              "          await google.colab.output.renderOutput(dataTable, element);\n",
              "          const docLink = document.createElement('div');\n",
              "          docLink.innerHTML = docLinkHtml;\n",
              "          element.appendChild(docLink);\n",
              "        }\n",
              "      </script>\n",
              "    </div>\n",
              "  </div>\n",
              "  "
            ]
          },
          "metadata": {},
          "execution_count": 88
        }
      ]
    },
    {
      "cell_type": "code",
      "source": [
        "min = df[\"cpuTime\"].min()\n",
        "df[df.cpuTime == min]"
      ],
      "metadata": {
        "colab": {
          "base_uri": "https://localhost:8080/",
          "height": 394
        },
        "id": "fn5zaW8VcuLZ",
        "outputId": "16c3ea8b-139f-4ce7-e250-53b7f11aedcc"
      },
      "execution_count": 89,
      "outputs": [
        {
          "output_type": "execute_result",
          "data": {
            "text/plain": [
              "                                      op  instances  cores  memory  \\\n",
              "176   LogisticRegressionWithElasticNet            3      3       1   \n",
              "236   LogisticRegressionWithElasticNet            3      4       1   \n",
              "656   LogisticRegressionWithElasticNet            3      3       3   \n",
              "716   LogisticRegressionWithElasticNet            3      4       3   \n",
              "776   LogisticRegressionWithElasticNet            3      1       4   \n",
              "1016  LogisticRegressionWithElasticNet            3      1       5   \n",
              "1256  LogisticRegressionWithElasticNet            3      1       6   \n",
              "1316  LogisticRegressionWithElasticNet            3      2       6   \n",
              "1496  LogisticRegressionWithElasticNet            3      1       7   \n",
              "1616  LogisticRegressionWithElasticNet            3      3       7   \n",
              "1676  LogisticRegressionWithElasticNet            3      4       7   \n",
              "\n",
              "      input_size  cpuTime  maxHeap (MB  )  maxNonHeap(MB  )  sumRun(s  )  \\\n",
              "176           30       13             354                82           18   \n",
              "236           30       13             382                82           18   \n",
              "656           30       13             716                83           18   \n",
              "716           30       13             482                83           19   \n",
              "776           30       13             687                82           14   \n",
              "1016          30       13             491                82           14   \n",
              "1256          30       13             576                82           14   \n",
              "1316          30       13             705                82           18   \n",
              "1496          30       13             734                82           14   \n",
              "1616          30       13             713                82           18   \n",
              "1676          30       13             676                82           18   \n",
              "\n",
              "      sumjvmcpu(s  )  maxdrheap(MB  )  \n",
              "176               54             1192  \n",
              "236               52             1192  \n",
              "656               52             4469  \n",
              "716               54             4469  \n",
              "776               51             6107  \n",
              "1016              54             7745  \n",
              "1256              50             9383  \n",
              "1316              51             9383  \n",
              "1496              50            11022  \n",
              "1616              54            11022  \n",
              "1676              53            11022  "
            ],
            "text/html": [
              "\n",
              "  <div id=\"df-84e8e800-01f5-49af-90bf-8247d7df20f5\">\n",
              "    <div class=\"colab-df-container\">\n",
              "      <div>\n",
              "<style scoped>\n",
              "    .dataframe tbody tr th:only-of-type {\n",
              "        vertical-align: middle;\n",
              "    }\n",
              "\n",
              "    .dataframe tbody tr th {\n",
              "        vertical-align: top;\n",
              "    }\n",
              "\n",
              "    .dataframe thead th {\n",
              "        text-align: right;\n",
              "    }\n",
              "</style>\n",
              "<table border=\"1\" class=\"dataframe\">\n",
              "  <thead>\n",
              "    <tr style=\"text-align: right;\">\n",
              "      <th></th>\n",
              "      <th>op</th>\n",
              "      <th>instances</th>\n",
              "      <th>cores</th>\n",
              "      <th>memory</th>\n",
              "      <th>input_size</th>\n",
              "      <th>cpuTime</th>\n",
              "      <th>maxHeap (MB  )</th>\n",
              "      <th>maxNonHeap(MB  )</th>\n",
              "      <th>sumRun(s  )</th>\n",
              "      <th>sumjvmcpu(s  )</th>\n",
              "      <th>maxdrheap(MB  )</th>\n",
              "    </tr>\n",
              "  </thead>\n",
              "  <tbody>\n",
              "    <tr>\n",
              "      <th>176</th>\n",
              "      <td>LogisticRegressionWithElasticNet</td>\n",
              "      <td>3</td>\n",
              "      <td>3</td>\n",
              "      <td>1</td>\n",
              "      <td>30</td>\n",
              "      <td>13</td>\n",
              "      <td>354</td>\n",
              "      <td>82</td>\n",
              "      <td>18</td>\n",
              "      <td>54</td>\n",
              "      <td>1192</td>\n",
              "    </tr>\n",
              "    <tr>\n",
              "      <th>236</th>\n",
              "      <td>LogisticRegressionWithElasticNet</td>\n",
              "      <td>3</td>\n",
              "      <td>4</td>\n",
              "      <td>1</td>\n",
              "      <td>30</td>\n",
              "      <td>13</td>\n",
              "      <td>382</td>\n",
              "      <td>82</td>\n",
              "      <td>18</td>\n",
              "      <td>52</td>\n",
              "      <td>1192</td>\n",
              "    </tr>\n",
              "    <tr>\n",
              "      <th>656</th>\n",
              "      <td>LogisticRegressionWithElasticNet</td>\n",
              "      <td>3</td>\n",
              "      <td>3</td>\n",
              "      <td>3</td>\n",
              "      <td>30</td>\n",
              "      <td>13</td>\n",
              "      <td>716</td>\n",
              "      <td>83</td>\n",
              "      <td>18</td>\n",
              "      <td>52</td>\n",
              "      <td>4469</td>\n",
              "    </tr>\n",
              "    <tr>\n",
              "      <th>716</th>\n",
              "      <td>LogisticRegressionWithElasticNet</td>\n",
              "      <td>3</td>\n",
              "      <td>4</td>\n",
              "      <td>3</td>\n",
              "      <td>30</td>\n",
              "      <td>13</td>\n",
              "      <td>482</td>\n",
              "      <td>83</td>\n",
              "      <td>19</td>\n",
              "      <td>54</td>\n",
              "      <td>4469</td>\n",
              "    </tr>\n",
              "    <tr>\n",
              "      <th>776</th>\n",
              "      <td>LogisticRegressionWithElasticNet</td>\n",
              "      <td>3</td>\n",
              "      <td>1</td>\n",
              "      <td>4</td>\n",
              "      <td>30</td>\n",
              "      <td>13</td>\n",
              "      <td>687</td>\n",
              "      <td>82</td>\n",
              "      <td>14</td>\n",
              "      <td>51</td>\n",
              "      <td>6107</td>\n",
              "    </tr>\n",
              "    <tr>\n",
              "      <th>1016</th>\n",
              "      <td>LogisticRegressionWithElasticNet</td>\n",
              "      <td>3</td>\n",
              "      <td>1</td>\n",
              "      <td>5</td>\n",
              "      <td>30</td>\n",
              "      <td>13</td>\n",
              "      <td>491</td>\n",
              "      <td>82</td>\n",
              "      <td>14</td>\n",
              "      <td>54</td>\n",
              "      <td>7745</td>\n",
              "    </tr>\n",
              "    <tr>\n",
              "      <th>1256</th>\n",
              "      <td>LogisticRegressionWithElasticNet</td>\n",
              "      <td>3</td>\n",
              "      <td>1</td>\n",
              "      <td>6</td>\n",
              "      <td>30</td>\n",
              "      <td>13</td>\n",
              "      <td>576</td>\n",
              "      <td>82</td>\n",
              "      <td>14</td>\n",
              "      <td>50</td>\n",
              "      <td>9383</td>\n",
              "    </tr>\n",
              "    <tr>\n",
              "      <th>1316</th>\n",
              "      <td>LogisticRegressionWithElasticNet</td>\n",
              "      <td>3</td>\n",
              "      <td>2</td>\n",
              "      <td>6</td>\n",
              "      <td>30</td>\n",
              "      <td>13</td>\n",
              "      <td>705</td>\n",
              "      <td>82</td>\n",
              "      <td>18</td>\n",
              "      <td>51</td>\n",
              "      <td>9383</td>\n",
              "    </tr>\n",
              "    <tr>\n",
              "      <th>1496</th>\n",
              "      <td>LogisticRegressionWithElasticNet</td>\n",
              "      <td>3</td>\n",
              "      <td>1</td>\n",
              "      <td>7</td>\n",
              "      <td>30</td>\n",
              "      <td>13</td>\n",
              "      <td>734</td>\n",
              "      <td>82</td>\n",
              "      <td>14</td>\n",
              "      <td>50</td>\n",
              "      <td>11022</td>\n",
              "    </tr>\n",
              "    <tr>\n",
              "      <th>1616</th>\n",
              "      <td>LogisticRegressionWithElasticNet</td>\n",
              "      <td>3</td>\n",
              "      <td>3</td>\n",
              "      <td>7</td>\n",
              "      <td>30</td>\n",
              "      <td>13</td>\n",
              "      <td>713</td>\n",
              "      <td>82</td>\n",
              "      <td>18</td>\n",
              "      <td>54</td>\n",
              "      <td>11022</td>\n",
              "    </tr>\n",
              "    <tr>\n",
              "      <th>1676</th>\n",
              "      <td>LogisticRegressionWithElasticNet</td>\n",
              "      <td>3</td>\n",
              "      <td>4</td>\n",
              "      <td>7</td>\n",
              "      <td>30</td>\n",
              "      <td>13</td>\n",
              "      <td>676</td>\n",
              "      <td>82</td>\n",
              "      <td>18</td>\n",
              "      <td>53</td>\n",
              "      <td>11022</td>\n",
              "    </tr>\n",
              "  </tbody>\n",
              "</table>\n",
              "</div>\n",
              "      <button class=\"colab-df-convert\" onclick=\"convertToInteractive('df-84e8e800-01f5-49af-90bf-8247d7df20f5')\"\n",
              "              title=\"Convert this dataframe to an interactive table.\"\n",
              "              style=\"display:none;\">\n",
              "        \n",
              "  <svg xmlns=\"http://www.w3.org/2000/svg\" height=\"24px\"viewBox=\"0 0 24 24\"\n",
              "       width=\"24px\">\n",
              "    <path d=\"M0 0h24v24H0V0z\" fill=\"none\"/>\n",
              "    <path d=\"M18.56 5.44l.94 2.06.94-2.06 2.06-.94-2.06-.94-.94-2.06-.94 2.06-2.06.94zm-11 1L8.5 8.5l.94-2.06 2.06-.94-2.06-.94L8.5 2.5l-.94 2.06-2.06.94zm10 10l.94 2.06.94-2.06 2.06-.94-2.06-.94-.94-2.06-.94 2.06-2.06.94z\"/><path d=\"M17.41 7.96l-1.37-1.37c-.4-.4-.92-.59-1.43-.59-.52 0-1.04.2-1.43.59L10.3 9.45l-7.72 7.72c-.78.78-.78 2.05 0 2.83L4 21.41c.39.39.9.59 1.41.59.51 0 1.02-.2 1.41-.59l7.78-7.78 2.81-2.81c.8-.78.8-2.07 0-2.86zM5.41 20L4 18.59l7.72-7.72 1.47 1.35L5.41 20z\"/>\n",
              "  </svg>\n",
              "      </button>\n",
              "      \n",
              "  <style>\n",
              "    .colab-df-container {\n",
              "      display:flex;\n",
              "      flex-wrap:wrap;\n",
              "      gap: 12px;\n",
              "    }\n",
              "\n",
              "    .colab-df-convert {\n",
              "      background-color: #E8F0FE;\n",
              "      border: none;\n",
              "      border-radius: 50%;\n",
              "      cursor: pointer;\n",
              "      display: none;\n",
              "      fill: #1967D2;\n",
              "      height: 32px;\n",
              "      padding: 0 0 0 0;\n",
              "      width: 32px;\n",
              "    }\n",
              "\n",
              "    .colab-df-convert:hover {\n",
              "      background-color: #E2EBFA;\n",
              "      box-shadow: 0px 1px 2px rgba(60, 64, 67, 0.3), 0px 1px 3px 1px rgba(60, 64, 67, 0.15);\n",
              "      fill: #174EA6;\n",
              "    }\n",
              "\n",
              "    [theme=dark] .colab-df-convert {\n",
              "      background-color: #3B4455;\n",
              "      fill: #D2E3FC;\n",
              "    }\n",
              "\n",
              "    [theme=dark] .colab-df-convert:hover {\n",
              "      background-color: #434B5C;\n",
              "      box-shadow: 0px 1px 3px 1px rgba(0, 0, 0, 0.15);\n",
              "      filter: drop-shadow(0px 1px 2px rgba(0, 0, 0, 0.3));\n",
              "      fill: #FFFFFF;\n",
              "    }\n",
              "  </style>\n",
              "\n",
              "      <script>\n",
              "        const buttonEl =\n",
              "          document.querySelector('#df-84e8e800-01f5-49af-90bf-8247d7df20f5 button.colab-df-convert');\n",
              "        buttonEl.style.display =\n",
              "          google.colab.kernel.accessAllowed ? 'block' : 'none';\n",
              "\n",
              "        async function convertToInteractive(key) {\n",
              "          const element = document.querySelector('#df-84e8e800-01f5-49af-90bf-8247d7df20f5');\n",
              "          const dataTable =\n",
              "            await google.colab.kernel.invokeFunction('convertToInteractive',\n",
              "                                                     [key], {});\n",
              "          if (!dataTable) return;\n",
              "\n",
              "          const docLinkHtml = 'Like what you see? Visit the ' +\n",
              "            '<a target=\"_blank\" href=https://colab.research.google.com/notebooks/data_table.ipynb>data table notebook</a>'\n",
              "            + ' to learn more about interactive tables.';\n",
              "          element.innerHTML = '';\n",
              "          dataTable['output_type'] = 'display_data';\n",
              "          await google.colab.output.renderOutput(dataTable, element);\n",
              "          const docLink = document.createElement('div');\n",
              "          docLink.innerHTML = docLinkHtml;\n",
              "          element.appendChild(docLink);\n",
              "        }\n",
              "      </script>\n",
              "    </div>\n",
              "  </div>\n",
              "  "
            ]
          },
          "metadata": {},
          "execution_count": 89
        }
      ]
    },
    {
      "cell_type": "markdown",
      "source": [
        "#### One Hot Encoder"
      ],
      "metadata": {
        "id": "JTVXu1aXviDe"
      }
    },
    {
      "cell_type": "code",
      "source": [
        "mask = df.dtypes == np.object\n",
        "categorical = df.columns[mask]\n",
        "categorical"
      ],
      "metadata": {
        "colab": {
          "base_uri": "https://localhost:8080/"
        },
        "id": "GXL_X0hCvtx-",
        "outputId": "4ed16436-4ebe-4bf1-baa5-a4061ab267c8"
      },
      "execution_count": 90,
      "outputs": [
        {
          "output_type": "execute_result",
          "data": {
            "text/plain": [
              "Index(['op'], dtype='object')"
            ]
          },
          "metadata": {},
          "execution_count": 90
        }
      ]
    },
    {
      "cell_type": "code",
      "source": [
        "num_ohc_cols = (df[categorical].apply(lambda x: x.nunique()).sort_values(ascending=False))\n",
        "num_ohc_cols"
      ],
      "metadata": {
        "colab": {
          "base_uri": "https://localhost:8080/"
        },
        "id": "yo4DRiRpwBhY",
        "outputId": "44ddbf35-7164-4706-842a-ae8e12f19f8a"
      },
      "execution_count": 91,
      "outputs": [
        {
          "output_type": "execute_result",
          "data": {
            "text/plain": [
              "op    5\n",
              "dtype: int64"
            ]
          },
          "metadata": {},
          "execution_count": 91
        }
      ]
    },
    {
      "cell_type": "code",
      "source": [
        "from sklearn.preprocessing import OneHotEncoder, LabelEncoder\n",
        "\n",
        "data_ohc = df.copy()\n",
        "ohc = OneHotEncoder()\n",
        "\n",
        "for col in num_ohc_cols.index:\n",
        "  #this is a sparse array\n",
        "  new_dat = ohc.fit_transform(data_ohc[[col]])\n",
        "  #drop original column from original DF\n",
        "  data_ohc = data_ohc.drop(col, axis=1)\n",
        "  #get unique names of columns\n",
        "  cats = ohc.categories_\n",
        "  #create a column for each OHE column by value\n",
        "  new_cols = ['_'.join([col,cat]) for cat in cats[0]]\n",
        "  #create the new Dataset\n",
        "  new_df = pd.DataFrame(new_dat.toarray(), columns=new_cols)\n",
        "  #append new data to df\n",
        "  data_ohc=pd.concat([data_ohc, new_df], axis=1)\n",
        "\n",
        "y_col = 'cpuTime'\n",
        "\n",
        "feature_cols = [x for x in data_ohc.columns if x != y_col]\n",
        "\n",
        "#cleaning data\n",
        "data_ohc.dropna(inplace = True)\n",
        "data_ohc.drop_duplicates(keep='first', inplace=True)\n",
        "data_ohc.reset_index(level=0, inplace=True)\n",
        "\n",
        "X = data_ohc[feature_cols]\n",
        "y = data_ohc[y_col]\n",
        "print(data_ohc.shape)"
      ],
      "metadata": {
        "id": "uVKPrleCwLsm",
        "colab": {
          "base_uri": "https://localhost:8080/"
        },
        "outputId": "816d9bca-8f32-49af-b040-c8566fdea71b"
      },
      "execution_count": 92,
      "outputs": [
        {
          "output_type": "stream",
          "name": "stdout",
          "text": [
            "(1680, 16)\n"
          ]
        }
      ]
    },
    {
      "cell_type": "markdown",
      "source": [
        "####Smogn"
      ],
      "metadata": {
        "id": "s-WTzyNp90Lt"
      }
    },
    {
      "cell_type": "code",
      "source": [
        "## conduct smogn\n",
        "data_smogn = smogn.smoter(\n",
        "    \n",
        "    ## main arguments\n",
        "    data = data_ohc,           ## pandas dataframe\n",
        "    y = 'cpuTime'              ## string ('header name')\n",
        ")"
      ],
      "metadata": {
        "colab": {
          "base_uri": "https://localhost:8080/"
        },
        "id": "B_oWCX9_9zJM",
        "outputId": "d510053a-763d-41ba-8f98-1ecb82590b4c"
      },
      "execution_count": 94,
      "outputs": [
        {
          "output_type": "stream",
          "name": "stderr",
          "text": [
            "dist_matrix: 100%|##########| 248/248 [00:23<00:00, 10.42it/s]\n",
            "synth_matrix: 100%|##########| 248/248 [00:01<00:00, 234.04it/s]\n",
            "r_index: 100%|##########| 96/96 [00:00<00:00, 465.46it/s]\n"
          ]
        }
      ]
    },
    {
      "cell_type": "code",
      "source": [
        "data_smogn.shape"
      ],
      "metadata": {
        "colab": {
          "base_uri": "https://localhost:8080/"
        },
        "id": "FoeuciDkAh0X",
        "outputId": "f834ac70-9f6e-45fd-c4c5-8d227d3705f7"
      },
      "execution_count": 95,
      "outputs": [
        {
          "output_type": "execute_result",
          "data": {
            "text/plain": [
              "(1432, 16)"
            ]
          },
          "metadata": {},
          "execution_count": 95
        }
      ]
    },
    {
      "cell_type": "code",
      "source": [
        "data_smogn.reset_index(level=0, inplace=True)"
      ],
      "metadata": {
        "id": "5AJRJW8hBNoE"
      },
      "execution_count": 96,
      "outputs": []
    },
    {
      "cell_type": "code",
      "source": [
        "## box plot stats - original data \n",
        "smogn.box_plot_stats(data_ohc['cpuTime'])['stats']"
      ],
      "metadata": {
        "colab": {
          "base_uri": "https://localhost:8080/"
        },
        "id": "mLbR7KgIBSO0",
        "outputId": "c5f1708e-ad78-4198-c771-22ff5457db79"
      },
      "execution_count": 97,
      "outputs": [
        {
          "output_type": "execute_result",
          "data": {
            "text/plain": [
              "array([ 13. ,  40. ,  61. ,  91.5, 168. ])"
            ]
          },
          "metadata": {},
          "execution_count": 97
        }
      ]
    },
    {
      "cell_type": "code",
      "source": [
        "## box plot stats - modified data\n",
        "smogn.box_plot_stats(data_smogn['cpuTime'])['stats']"
      ],
      "metadata": {
        "colab": {
          "base_uri": "https://localhost:8080/"
        },
        "id": "m2IvEwD9A9S_",
        "outputId": "6f525068-d58e-483c-c194-706cbff7b677"
      },
      "execution_count": 98,
      "outputs": [
        {
          "output_type": "execute_result",
          "data": {
            "text/plain": [
              "array([ 13.,  63., 124., 141., 237.])"
            ]
          },
          "metadata": {},
          "execution_count": 98
        }
      ]
    },
    {
      "cell_type": "code",
      "source": [
        "%matplotlib inline"
      ],
      "metadata": {
        "id": "jU0XrYNqooUu"
      },
      "execution_count": 99,
      "outputs": []
    },
    {
      "cell_type": "code",
      "source": [
        "## distribution plot\n",
        "sns.kdeplot(data_ohc['cpuTime'], label = \"Original\")\n",
        "sns.kdeplot(data_smogn['cpuTime'], label = \"Modified\")\n",
        "plt.plot()\n",
        "plt.show()"
      ],
      "metadata": {
        "id": "LdSBA1SvBaES",
        "colab": {
          "base_uri": "https://localhost:8080/",
          "height": 0
        },
        "outputId": "fa486f30-63e1-498a-da3e-0e6e9ad40da8"
      },
      "execution_count": 100,
      "outputs": [
        {
          "output_type": "display_data",
          "data": {
            "text/plain": [
              "<Figure size 432x288 with 1 Axes>"
            ],
            "image/png": "[encoded data removed]"
          },
          "metadata": {
            "needs_background": "light"
          }
        }
      ]
    },
    {
      "cell_type": "markdown",
      "source": [
        "### Feature Selection"
      ],
      "metadata": {
        "id": "z_qXIxFONoi3"
      }
    },
    {
      "cell_type": "code",
      "source": [
        "from sklearn.linear_model import RidgeCV, LassoCV\n",
        "import statsmodels.api as sm\n",
        "%matplotlib inline"
      ],
      "metadata": {
        "id": "BC7aWjTHN2qI"
      },
      "execution_count": 48,
      "outputs": []
    },
    {
      "cell_type": "markdown",
      "source": [
        "LassoCV\n",
        "\n"
      ],
      "metadata": {
        "id": "VcUEc-7qO5bq"
      }
    },
    {
      "cell_type": "code",
      "source": [
        "reg = LassoCV()\n",
        "reg.fit(X, y)\n",
        "print(\"Best alpha using built-in LassoCV: %f\" % reg.alpha_)\n",
        "print(\"Best score using built-in LassoCV: %f\" %reg.score(X,y))\n",
        "coef = pd.Series(reg.coef_, index = X.columns)"
      ],
      "metadata": {
        "colab": {
          "base_uri": "https://localhost:8080/"
        },
        "id": "FkMizsRWNqv7",
        "outputId": "3cfd30a4-7343-4f58-d048-1e50c9117346"
      },
      "execution_count": 117,
      "outputs": [
        {
          "output_type": "stream",
          "name": "stdout",
          "text": [
            "Best alpha using built-in LassoCV: 6.140257\n",
            "Best score using built-in LassoCV: 0.955224\n"
          ]
        }
      ]
    },
    {
      "cell_type": "code",
      "source": [
        "print(\"Lasso picked \" + str(sum(coef != 0)) + \" variables and eliminated the other \" +  str(sum(coef == 0)) + \" variables\")"
      ],
      "metadata": {
        "colab": {
          "base_uri": "https://localhost:8080/"
        },
        "id": "CKIFt6C-Nvj_",
        "outputId": "e21c576a-a455-4f52-970d-3a51a68f4ba8"
      },
      "execution_count": 118,
      "outputs": [
        {
          "output_type": "stream",
          "name": "stdout",
          "text": [
            "Lasso picked 6 variables and eliminated the other 8 variables\n"
          ]
        }
      ]
    },
    {
      "cell_type": "code",
      "source": [
        "imp_coef = coef.sort_values()\n",
        "import matplotlib\n",
        "matplotlib.rcParams['figure.figsize'] = (8.0, 10.0)\n",
        "imp_coef.plot(kind = \"barh\")\n",
        "plt.title(\"Feature importance using Lasso Model\")"
      ],
      "metadata": {
        "colab": {
          "base_uri": "https://localhost:8080/",
          "height": 0
        },
        "id": "IFsM-6cRNxw7",
        "outputId": "ac0c6412-1658-48ea-cef3-f22383879bdf"
      },
      "execution_count": 119,
      "outputs": [
        {
          "output_type": "execute_result",
          "data": {
            "text/plain": [
              "Text(0.5, 1.0, 'Feature importance using Lasso Model')"
            ]
          },
          "metadata": {},
          "execution_count": 119
        },
        {
          "output_type": "display_data",
          "data": {
            "text/plain": [
              "<Figure size 576x720 with 1 Axes>"
            ],
            "image/png": "[encoded data removed]"
          },
          "metadata": {
            "needs_background": "light"
          }
        }
      ]
    },
    {
      "cell_type": "markdown",
      "source": [
        "### K-Folds"
      ],
      "metadata": {
        "id": "690r-jUQoozM"
      }
    },
    {
      "cell_type": "code",
      "source": [
        "from sklearn.model_selection import KFold, RepeatedKFold\n",
        "\n",
        "kf = KFold(random_state=72118, n_splits=10, shuffle = True)\n",
        "                  #  shuffle=True) \n",
        "kf.split(X)"
      ],
      "metadata": {
        "colab": {
          "base_uri": "https://localhost:8080/"
        },
        "id": "NCILrMTdoszj",
        "outputId": "84502f3d-c671-46f9-d74a-232e59494a47"
      },
      "execution_count": 101,
      "outputs": [
        {
          "output_type": "execute_result",
          "data": {
            "text/plain": [
              "<generator object _BaseKFold.split at 0x7f871c169c50>"
            ]
          },
          "metadata": {},
          "execution_count": 101
        }
      ]
    },
    {
      "cell_type": "code",
      "source": [
        "# This creates a Tuple, for 3 different scenarios(n_plits), that is: train_index, test_index\n",
        "\n",
        "for train_index, test_index in kf.split(X):\n",
        "  print(\"Train index:\", train_index[:10], len(train_index))\n",
        "  print(\"Test index:\", test_index[:10], len(test_index))\n",
        "  print('')"
      ],
      "metadata": {
        "id": "7MJ34csxozRI",
        "colab": {
          "base_uri": "https://localhost:8080/"
        },
        "outputId": "660ad6dd-aa0a-4eae-8958-9cb82cccaa39"
      },
      "execution_count": 102,
      "outputs": [
        {
          "output_type": "stream",
          "name": "stdout",
          "text": [
            "Train index: [0 1 2 3 4 5 6 7 8 9] 1512\n",
            "Test index: [ 28  29  44  46  47  54  93 110 113 122] 168\n",
            "\n",
            "Train index: [ 0  1  2  3  4  7  8 10 11 12] 1512\n",
            "Test index: [ 5  6  9 21 56 72 76 77 81 83] 168\n",
            "\n",
            "Train index: [ 0  1  2  3  4  5  6  8  9 10] 1512\n",
            "Test index: [  7  23  32  33  40  43  51  67 100 103] 168\n",
            "\n",
            "Train index: [0 1 2 3 4 5 6 7 8 9] 1512\n",
            "Test index: [ 39  48  75  80  84  86  94 102 104 107] 168\n",
            "\n",
            "Train index: [0 1 2 3 4 5 6 7 8 9] 1512\n",
            "Test index: [19 41 45 49 57 61 68 71 78 79] 168\n",
            "\n",
            "Train index: [ 0  1  2  3  4  5  6  7  9 10] 1512\n",
            "Test index: [ 8 11 16 17 24 42 52 69 70 85] 168\n",
            "\n",
            "Train index: [0 1 2 3 4 5 6 7 8 9] 1512\n",
            "Test index: [12 14 18 30 36 53 58 59 64 87] 168\n",
            "\n",
            "Train index: [ 1  4  5  6  7  8  9 10 11 12] 1512\n",
            "Test index: [  0   2   3  22  25  38  60  63 120 130] 168\n",
            "\n",
            "Train index: [0 1 2 3 4 5 6 7 8 9] 1512\n",
            "Test index: [10 13 15 20 27 37 50 55 62 65] 168\n",
            "\n",
            "Train index: [ 0  2  3  5  6  7  8  9 10 11] 1512\n",
            "Test index: [  1   4  26  31  34  35  66  73  98 101] 168\n",
            "\n"
          ]
        }
      ]
    },
    {
      "cell_type": "markdown",
      "source": [
        "### Modeling"
      ],
      "metadata": {
        "id": "EYJ39eOnpMXR"
      }
    },
    {
      "cell_type": "code",
      "source": [
        "X = data_smogn[feature_cols]\n",
        "y = data_smogn[y_col]"
      ],
      "metadata": {
        "id": "O-11I_8vB3a_"
      },
      "execution_count": 103,
      "outputs": []
    },
    {
      "cell_type": "markdown",
      "source": [
        "#### Linear regression without regularization"
      ],
      "metadata": {
        "id": "CGxrfd4U9RqH"
      }
    },
    {
      "cell_type": "code",
      "source": [
        "# Linear regression without regularization\n",
        "from sklearn.linear_model import LinearRegression\n",
        "from sklearn.metrics import r2_score, mean_squared_error, mean_absolute_error\n",
        "from sklearn.model_selection import cross_val_score, cross_validate, cross_val_predict\n",
        "import statsmodels.api as sm\n",
        "\n",
        "scores = []\n",
        "adj_r2 = []\n",
        "rmse = []\n",
        "mae = []\n",
        "\n",
        "lr1 = LinearRegression()\n",
        "for train_index, test_index in kf.split(X):\n",
        "  X_train, X_test, y_train, y_test = (X.iloc[train_index, :], X.iloc[test_index, :], y[train_index], y[test_index])\n",
        "  \n",
        "  lr1.fit(X_train, y_train)\n",
        "  y_pred = lr1.predict(X_test)\n",
        "\n",
        "  # score = r2_score(y_test.values, y_pred)                                     #r2\n",
        "  # adj_score= 1 - ( 1-score ) * ( len(y) - 1 ) / ( len(y) - X.shape[1] - 1 ) \n",
        "  # print(adj_score)  #adj_r2\n",
        "  # mean = np.sqrt(mean_squared_error(y_test.values, y_pred))                   #rmse\n",
        "  # mae_score = mean_absolute_error(y_test.values, y_pred)                      #msa\n",
        "\n",
        "  # scores.append(score) #mse\n",
        "  # adj_r2.append(adj_score) \n",
        "  # rmse.append(mean)\n",
        "  # mae.append(mae_score)\n",
        "\n",
        "scoring = ['neg_mean_squared_error','r2','neg_root_mean_squared_error', 'neg_mean_absolute_error' ]\n",
        "score = cross_validate(lr1, X, y, scoring=scoring, cv=kf)"
      ],
      "metadata": {
        "id": "Wah4qJ6ypRdx"
      },
      "execution_count": 104,
      "outputs": []
    },
    {
      "cell_type": "code",
      "source": [
        "k = sorted(score.keys())\n",
        "for i in range(2,len(k)):\n",
        "  print(k[i], \" \",round(np.mean(score[k[i]]),4))"
      ],
      "metadata": {
        "colab": {
          "base_uri": "https://localhost:8080/"
        },
        "id": "rtW2MOF8ua59",
        "outputId": "9f00c7a8-7262-4d51-d120-e8dce6594a3b"
      },
      "execution_count": 27,
      "outputs": [
        {
          "output_type": "stream",
          "name": "stdout",
          "text": [
            "test_neg_mean_absolute_error   -2.8011\n",
            "test_neg_mean_squared_error   -44.3626\n",
            "test_neg_root_mean_squared_error   -6.2442\n",
            "test_r2   0.9791\n"
          ]
        }
      ]
    },
    {
      "cell_type": "code",
      "source": [
        "# np.sqrt(-cross_val_score(lr, X, y, cv=kf,scoring = 'neg_mean_squared_error'))"
      ],
      "metadata": {
        "id": "l4wQdBMgg6Ib"
      },
      "execution_count": 28,
      "outputs": []
    },
    {
      "cell_type": "code",
      "source": [
        "print(\"%0.4f accuracy with a standard deviation of %0.4f\" % (np.mean(score['test_r2']), np.std(score['test_r2'])))"
      ],
      "metadata": {
        "colab": {
          "base_uri": "https://localhost:8080/"
        },
        "id": "sur0TwReygnW",
        "outputId": "bccf1b2d-6610-4d4d-8348-2fd24e333b15"
      },
      "execution_count": 29,
      "outputs": [
        {
          "output_type": "stream",
          "name": "stdout",
          "text": [
            "0.9791 accuracy with a standard deviation of 0.0140\n"
          ]
        }
      ]
    },
    {
      "cell_type": "code",
      "source": [
        "adj_score= 1 - ( 1-score['test_r2'] ) * ( len(y) - 1 ) / ( len(y) - X.shape[1] - 1 )\n",
        "round(np.mean(adj_score),4)"
      ],
      "metadata": {
        "colab": {
          "base_uri": "https://localhost:8080/"
        },
        "id": "vKA9RjlmOKJP",
        "outputId": "c6b40b98-ab9c-4087-b4d5-c569123c10f3"
      },
      "execution_count": 30,
      "outputs": [
        {
          "output_type": "execute_result",
          "data": {
            "text/plain": [
              "0.9785"
            ]
          },
          "metadata": {},
          "execution_count": 30
        }
      ]
    },
    {
      "cell_type": "code",
      "source": [
        "y_pred = cross_val_predict(lr1, X, y, cv=kf)\n",
        "y_pred.shape"
      ],
      "metadata": {
        "colab": {
          "base_uri": "https://localhost:8080/"
        },
        "id": "s4HBxSmQ5BSC",
        "outputId": "33982450-d9d7-49f6-ac6e-8f91c58ee93f"
      },
      "execution_count": 31,
      "outputs": [
        {
          "output_type": "execute_result",
          "data": {
            "text/plain": [
              "(1432,)"
            ]
          },
          "metadata": {},
          "execution_count": 31
        }
      ]
    },
    {
      "cell_type": "code",
      "source": [
        "%matplotlib inline\n",
        "plt.scatter(y_pred, y.values)\n",
        "plt.plot(np.linspace(0,400,400), np.linspace(0,400,400), c = 'purple', linestyle='--')\n",
        "plt.xlabel('prediction')\n",
        "plt.ylabel('true values')\n",
        "plt.xlim(0,400)\n",
        "plt.ylim(0,400)\n",
        "plt.title('Predicted vs True values')"
      ],
      "metadata": {
        "colab": {
          "base_uri": "https://localhost:8080/",
          "height": 312
        },
        "id": "3TElaqSQVzkp",
        "outputId": "452c818c-10ee-4544-e29e-4a38c257b79b"
      },
      "execution_count": 32,
      "outputs": [
        {
          "output_type": "execute_result",
          "data": {
            "text/plain": [
              "Text(0.5, 1.0, 'Predicted vs True values')"
            ]
          },
          "metadata": {},
          "execution_count": 32
        },
        {
          "output_type": "display_data",
          "data": {
            "text/plain": [
              "<Figure size 432x288 with 1 Axes>"
            ],
            "image/png": "[encoded data removed]"
          },
          "metadata": {
            "needs_background": "light"
          }
        }
      ]
    },
    {
      "cell_type": "code",
      "source": [
        "ex_pred = lr1.predict([[12,1,\t2,\t200,\t400,100,\t250,\t340,\t4450,\t0.0,0.0,\t1.0, 0.0, 0.0]])\n",
        "ex_pred"
      ],
      "metadata": {
        "id": "VAUn269fHFTd",
        "colab": {
          "base_uri": "https://localhost:8080/"
        },
        "outputId": "90fc10a5-b0e4-49e9-814a-b5bd1857a075"
      },
      "execution_count": 122,
      "outputs": [
        {
          "output_type": "execute_result",
          "data": {
            "text/plain": [
              "array([100.61926318])"
            ]
          },
          "metadata": {},
          "execution_count": 122
        }
      ]
    },
    {
      "cell_type": "markdown",
      "source": [
        "#### Linear regression with Regularization"
      ],
      "metadata": {
        "id": "OczSOR7LNegg"
      }
    },
    {
      "cell_type": "code",
      "source": [
        "from sklearn.preprocessing import StandardScaler, MinMaxScaler\n",
        "from sklearn.pipeline import Pipeline\n",
        "\n",
        "s = MinMaxScaler()\n",
        "lr2 = LinearRegression()\n",
        "estimator1 = Pipeline([('scaler', s), ('linear_regression', lr2)])\n",
        "scoring = ['neg_mean_squared_error','r2','neg_root_mean_squared_error', 'neg_mean_absolute_error' ]\n",
        "score = cross_validate(estimator1, X, y, scoring=scoring, cv=kf)\n",
        "\n",
        "k = sorted(score.keys())\n",
        "for i in range(2,6):\n",
        "  print(k[i], \" \",round(np.mean(score[k[i]]),4))"
      ],
      "metadata": {
        "colab": {
          "base_uri": "https://localhost:8080/"
        },
        "id": "tnlaLIXupm0x",
        "outputId": "bfe666ca-d1c1-4a5f-90f2-39b47798c9c5"
      },
      "execution_count": 105,
      "outputs": [
        {
          "output_type": "stream",
          "name": "stdout",
          "text": [
            "test_neg_mean_absolute_error   -4.4687\n",
            "test_neg_mean_squared_error   -47.9323\n",
            "test_neg_root_mean_squared_error   -6.74\n",
            "test_r2   0.9772\n"
          ]
        }
      ]
    },
    {
      "cell_type": "code",
      "source": [
        "print(\"%0.4f accuracy with a standard deviation of %0.4f\" % (np.mean(score['test_r2']), np.std(score['test_r2'])))\n",
        "adj_score= 1 - ( 1-score['test_r2'] ) * ( len(y) - 1 ) / ( len(y) - X.shape[1] - 1 )\n",
        "round(np.mean(adj_score),4)"
      ],
      "metadata": {
        "colab": {
          "base_uri": "https://localhost:8080/"
        },
        "id": "jaR9gnRaTNUz",
        "outputId": "865d53cf-534f-4cc0-f1a7-9adeda0e530e"
      },
      "execution_count": 35,
      "outputs": [
        {
          "output_type": "stream",
          "name": "stdout",
          "text": [
            "0.9791 accuracy with a standard deviation of 0.0139\n"
          ]
        },
        {
          "output_type": "execute_result",
          "data": {
            "text/plain": [
              "0.9786"
            ]
          },
          "metadata": {},
          "execution_count": 35
        }
      ]
    },
    {
      "cell_type": "code",
      "source": [
        "pred = cross_val_predict(estimator1, X, y, cv=kf)"
      ],
      "metadata": {
        "id": "8LM7wzUD445x"
      },
      "execution_count": 36,
      "outputs": []
    },
    {
      "cell_type": "code",
      "source": [
        "plt.scatter(pred, y.values)\n",
        "plt.plot(np.linspace(0,400,400), np.linspace(0,400,400), c = 'purple', linestyle='--')\n",
        "plt.xlabel('prediction')\n",
        "plt.ylabel('true values')\n",
        "plt.xlim(0,400)\n",
        "plt.ylim(0,400)\n",
        "plt.title('Predicted vs True values')"
      ],
      "metadata": {
        "colab": {
          "base_uri": "https://localhost:8080/",
          "height": 312
        },
        "id": "GXxaoJ2J3c0X",
        "outputId": "0b785359-213d-47da-d6aa-76c0d9783e86"
      },
      "execution_count": 37,
      "outputs": [
        {
          "output_type": "execute_result",
          "data": {
            "text/plain": [
              "Text(0.5, 1.0, 'Predicted vs True values')"
            ]
          },
          "metadata": {},
          "execution_count": 37
        },
        {
          "output_type": "display_data",
          "data": {
            "text/plain": [
              "<Figure size 432x288 with 1 Axes>"
            ],
            "image/png": "[encoded data removed]"
          },
          "metadata": {
            "needs_background": "light"
          }
        }
      ]
    },
    {
      "cell_type": "markdown",
      "source": [
        "#### Polynomial Regression"
      ],
      "metadata": {
        "id": "YlwZUkdAqX3c"
      }
    },
    {
      "cell_type": "code",
      "source": [
        "from sklearn.preprocessing import PolynomialFeatures\n",
        "\n",
        "polis = [2, 3, 4]\n",
        "\n",
        "lr3 = LinearRegression()\n",
        "\n",
        "scores = []\n",
        "r2 = []\n",
        "adj_r2 = []\n",
        "\n",
        "\n",
        "for poli in polis:\n",
        "  pf = PolynomialFeatures(poli)\n",
        "  estimator = Pipeline([('make_higher_degree', pf),('scaler', s), ('linear_reg', lr3)])\n",
        "\n",
        "  scoring = ['neg_mean_squared_error','r2','neg_root_mean_squared_error', 'neg_mean_absolute_error' ]\n",
        "  score = cross_validate(estimator, X, y, scoring=scoring, cv=kf)\n",
        "  k = sorted(score.keys())\n",
        "  print(\"poli: \", poli, \"\\n\")\n",
        "  for i in range(2,6):\n",
        "      print( k[i], \" \",round(np.mean(score[k[i]]),4))\n",
        "\n",
        "  score = cross_val_score(estimator, X, y, cv=kf)\n",
        "  r2.append(score)\n",
        "  adj_score= 1 - ( 1-score) * ( len(y) - 1 ) / ( len(y) - X.shape[1] - 1 )\n",
        "  adj_r2.append(adj_score)\n",
        "  predictions = cross_val_predict(estimator, X, y, cv=kf)\n",
        "  score2 = r2_score(y, predictions)\n",
        "  print (poli, \" \", np.sqrt(mean_squared_error(y,predictions)))\n",
        "  scores.append(score2)"
      ],
      "metadata": {
        "id": "Q8vkITLMqd5z",
        "colab": {
          "base_uri": "https://localhost:8080/"
        },
        "outputId": "d8453d5a-8777-4a6e-97f1-0f0cd90291b3"
      },
      "execution_count": null,
      "outputs": [
        {
          "output_type": "stream",
          "name": "stdout",
          "text": [
            "poli:  2 \n",
            "\n",
            "test_neg_mean_absolute_error   -3.3056\n",
            "test_neg_mean_squared_error   -37.5976\n",
            "test_neg_root_mean_squared_error   -5.8386\n",
            "test_r2   0.9826\n",
            "2   6.131891269234934\n",
            "poli:  3 \n",
            "\n",
            "test_neg_mean_absolute_error   -270.057\n",
            "test_neg_mean_squared_error   -1430729.3835\n",
            "test_neg_root_mean_squared_error   -884.8444\n",
            "test_r2   -659.28\n",
            "3   1195.377214626781\n",
            "poli:  4 \n",
            "\n",
            "test_neg_mean_absolute_error   -96.7054\n",
            "test_neg_mean_squared_error   -176746.8644\n",
            "test_neg_root_mean_squared_error   -278.1809\n",
            "test_r2   -79.0023\n",
            "4   420.15670742830946\n"
          ]
        }
      ]
    },
    {
      "cell_type": "code",
      "source": [
        "np.mean(r2[0])"
      ],
      "metadata": {
        "colab": {
          "base_uri": "https://localhost:8080/"
        },
        "id": "bhFdJHYG0wJj",
        "outputId": "f1649e90-4dff-448d-f9c9-77030259749c"
      },
      "execution_count": null,
      "outputs": [
        {
          "output_type": "execute_result",
          "data": {
            "text/plain": [
              "-3157959534561467.0"
            ]
          },
          "metadata": {},
          "execution_count": 375
        }
      ]
    },
    {
      "cell_type": "code",
      "source": [
        "r2"
      ],
      "metadata": {
        "id": "QChPHnZe1Tu5"
      },
      "execution_count": null,
      "outputs": []
    },
    {
      "cell_type": "code",
      "source": [
        "np.mean(adj_r2, axis=1)"
      ],
      "metadata": {
        "colab": {
          "base_uri": "https://localhost:8080/"
        },
        "id": "zWjuu60D1fZt",
        "outputId": "5b0504e9-2343-43e3-ac99-05ce0dbacf69"
      },
      "execution_count": null,
      "outputs": [
        {
          "output_type": "execute_result",
          "data": {
            "text/plain": [
              "array([-3.24410631e+15, -1.57292220e+06, -1.25548593e+08])"
            ]
          },
          "metadata": {},
          "execution_count": 377
        }
      ]
    },
    {
      "cell_type": "code",
      "source": [
        "adj_score= 1 - ( 1-(0.9826) ) * ( len(y) - 1 ) / ( len(y) - X.shape[1] - 1 )\n",
        "adj_score"
      ],
      "metadata": {
        "id": "prGiWfQsT7Ww",
        "colab": {
          "base_uri": "https://localhost:8080/"
        },
        "outputId": "3cfbcedb-931b-4fa7-9471-85eeeaf2dace"
      },
      "execution_count": null,
      "outputs": [
        {
          "output_type": "execute_result",
          "data": {
            "text/plain": [
              "0.9822780071174377"
            ]
          },
          "metadata": {},
          "execution_count": 44
        }
      ]
    },
    {
      "cell_type": "code",
      "source": [
        "from sklearn.preprocessing import PolynomialFeatures\n",
        "lr3 = LinearRegression()\n",
        "pf = PolynomialFeatures(2)\n",
        "estimator2 = Pipeline([('make_higher_degree', pf),('scaler', s), ('linear_reg', lr3)])\n",
        "scoring = ['neg_mean_squared_error','r2','neg_root_mean_squared_error', 'neg_mean_absolute_error' ]\n",
        "score = cross_validate(estimator2, X, y, scoring=scoring, cv=kf)\n",
        "score"
      ],
      "metadata": {
        "id": "Ik8W25GVVfOu",
        "colab": {
          "base_uri": "https://localhost:8080/"
        },
        "outputId": "486bc67f-5e15-4ef7-f91c-e403cdc9be65"
      },
      "execution_count": 106,
      "outputs": [
        {
          "output_type": "execute_result",
          "data": {
            "text/plain": [
              "{'fit_time': array([0.02005053, 0.01807022, 0.01875257, 0.0194757 , 0.01871228,\n",
              "        0.01886344, 0.01928139, 0.01858687, 0.01800227, 0.01727581]),\n",
              " 'score_time': array([0.00375247, 0.00329328, 0.00370979, 0.00362587, 0.00350523,\n",
              "        0.00381637, 0.00381494, 0.00353503, 0.00342536, 0.00332212]),\n",
              " 'test_neg_mean_squared_error': array([ -9.39951967, -11.65921279, -11.35560757, -14.38327005,\n",
              "        -12.18929037, -50.97065756, -13.69294715,  -9.15448772,\n",
              "        -53.72708574, -57.01722282]),\n",
              " 'test_r2': array([0.99600922, 0.99372287, 0.99517355, 0.99323022, 0.99468133,\n",
              "        0.9764637 , 0.99275579, 0.99544469, 0.97586309, 0.97050755]),\n",
              " 'test_neg_root_mean_squared_error': array([-3.06586361, -3.41455895, -3.36980824, -3.79252819, -3.49131642,\n",
              "        -7.13937375, -3.70039824, -3.0256384 , -7.32987624, -7.55097496]),\n",
              " 'test_neg_mean_absolute_error': array([-2.13964584, -2.40518528, -2.11354863, -2.60314685, -2.17595539,\n",
              "        -2.73086484, -2.57718556, -2.15411932, -2.85117324, -2.81243171])}"
            ]
          },
          "metadata": {},
          "execution_count": 106
        }
      ]
    },
    {
      "cell_type": "code",
      "source": [
        "#Lasso Regression with the best estimator from above\n",
        "#More data?\n",
        "best_estimator = Pipeline([('make_higher_degree', PolynomialFeatures(degree=2)), ('scaler', s), ('polynomial_regression', lr1)])\n",
        "\n",
        "best_estimator.fit(X,y)\n",
        "best_estimator.score(X,y)"
      ],
      "metadata": {
        "colab": {
          "base_uri": "https://localhost:8080/"
        },
        "outputId": "86734341-0614-4532-a597-20a583efea58",
        "id": "VevE8HAHrV1H"
      },
      "execution_count": null,
      "outputs": [
        {
          "output_type": "execute_result",
          "data": {
            "text/plain": [
              "0.7956800573316195"
            ]
          },
          "metadata": {},
          "execution_count": 378
        }
      ]
    },
    {
      "cell_type": "code",
      "source": [
        "pred = cross_val_predict(best_estimator, X, y, cv=kf)"
      ],
      "metadata": {
        "id": "RpLAfL5ZrVnZ"
      },
      "execution_count": null,
      "outputs": []
    },
    {
      "cell_type": "code",
      "source": [
        "plt.scatter(pred, y.values)\n",
        "plt.plot(np.linspace(0,400,400), np.linspace(0,400,400), c = 'purple', linestyle='--')\n",
        "plt.xlabel('prediction')\n",
        "plt.ylabel('true values')\n",
        "plt.xlim(0,400)\n",
        "plt.ylim(0,400)\n",
        "plt.title('Predicted vs True values')"
      ],
      "metadata": {
        "colab": {
          "base_uri": "https://localhost:8080/",
          "height": 312
        },
        "id": "vfrUUbVTrhgP",
        "outputId": "36ac0c93-89c6-47ed-b86a-79903033cde5"
      },
      "execution_count": null,
      "outputs": [
        {
          "output_type": "execute_result",
          "data": {
            "text/plain": [
              "Text(0.5, 1.0, 'Predicted vs True values')"
            ]
          },
          "metadata": {},
          "execution_count": 380
        },
        {
          "output_type": "display_data",
          "data": {
            "text/plain": [
              "<Figure size 432x288 with 1 Axes>"
            ],
            "image/png": "[encoded data removed]"
          },
          "metadata": {
            "needs_background": "light"
          }
        }
      ]
    },
    {
      "cell_type": "markdown",
      "source": [
        "#### Lasso with Regularization"
      ],
      "metadata": {
        "id": "E7sx7tjdE_Qa"
      }
    },
    {
      "cell_type": "code",
      "source": [
        "alphas = np.geomspace(0.01, 12, 10)\n",
        "#alphas = np.geomspace(1, 15, 10)\n",
        "#alphas = np.geomspace(0.1,2,10)\n",
        "\n",
        "from sklearn.linear_model import Lasso\n",
        "\n",
        "scores_lasso = []\n",
        "coefs = []\n",
        "r2 = []\n",
        "adj_r2 = []\n",
        "\n",
        "for alpha in alphas:\n",
        "  las1 = Lasso(alpha=alpha, max_iter=100000)\n",
        "  estimator = Pipeline([('scaler', s), ('lasso_regression', las1)])\n",
        "  scoring = ['neg_mean_squared_error','r2','neg_root_mean_squared_error', 'neg_mean_absolute_error' ]\n",
        "  score = cross_validate(estimator, X, y, scoring=scoring, cv=kf)\n",
        "  k = sorted(score.keys())\n",
        "  \n",
        "  for i in range(2,len(k)):\n",
        "      print( \"alpha: \", alpha, \" \", k[i], \" \",round(np.mean(score[k[i]]),4))\n",
        "\n",
        "  \n",
        "  # score = cross_val_score(estimator, X, y, cv=kf)\n",
        "  # r2.append(score)\n",
        "  # adj_score= 1 - ( 1-score) * ( len(y) - 1 ) / ( len(y) - X.shape[1] - 1 )\n",
        "  # adj_r2.append(adj_score)\n",
        "  # predictions = cross_val_predict(estimator, X, y, cv=kf)\n",
        "  # print('mse :', alpha, \" \", np.sqrt(mean_squared_error(y,predictions)))\n",
        "  # score2 = r2_score(y, predictions)\n",
        "  # scores_lasso.append(score2)"
      ],
      "metadata": {
        "id": "LyHWHmezqkba",
        "colab": {
          "base_uri": "https://localhost:8080/"
        },
        "outputId": "cb2d7283-675d-429c-a0c2-fa1a8363ac72"
      },
      "execution_count": null,
      "outputs": [
        {
          "output_type": "stream",
          "name": "stdout",
          "text": [
            "alpha:  0.01   test_neg_mean_absolute_error   -2.9232\n",
            "alpha:  0.01   test_neg_mean_squared_error   -35.2188\n",
            "alpha:  0.01   test_neg_root_mean_squared_error   -5.6176\n",
            "alpha:  0.01   test_r2   0.9837\n",
            "alpha:  0.02198524195609481   test_neg_mean_absolute_error   -2.9883\n",
            "alpha:  0.02198524195609481   test_neg_mean_squared_error   -35.6045\n",
            "alpha:  0.02198524195609481   test_neg_root_mean_squared_error   -5.6521\n",
            "alpha:  0.02198524195609481   test_r2   0.9836\n",
            "alpha:  0.04833508638680315   test_neg_mean_absolute_error   -3.1126\n",
            "alpha:  0.04833508638680315   test_neg_mean_squared_error   -36.4711\n",
            "alpha:  0.04833508638680315   test_neg_root_mean_squared_error   -5.732\n",
            "alpha:  0.04833508638680315   test_r2   0.9832\n",
            "alpha:  0.10626585691826111   test_neg_mean_absolute_error   -3.4647\n",
            "alpha:  0.10626585691826111   test_neg_mean_squared_error   -39.6975\n",
            "alpha:  0.10626585691826111   test_neg_root_mean_squared_error   -6.0219\n",
            "alpha:  0.10626585691826111   test_r2   0.9816\n",
            "alpha:  0.2336280576019722   test_neg_mean_absolute_error   -4.0522\n",
            "alpha:  0.2336280576019722   test_neg_mean_squared_error   -46.5313\n",
            "alpha:  0.2336280576019722   test_neg_root_mean_squared_error   -6.5932\n",
            "alpha:  0.2336280576019722   test_r2   0.9784\n",
            "alpha:  0.5136369374111814   test_neg_mean_absolute_error   -4.3257\n",
            "alpha:  0.5136369374111814   test_neg_mean_squared_error   -50.3587\n",
            "alpha:  0.5136369374111814   test_neg_root_mean_squared_error   -6.8884\n",
            "alpha:  0.5136369374111814   test_r2   0.9766\n",
            "alpha:  1.1292432346572343   test_neg_mean_absolute_error   -4.6249\n",
            "alpha:  1.1292432346572343   test_neg_mean_squared_error   -53.5985\n",
            "alpha:  1.1292432346572343   test_neg_root_mean_squared_error   -7.1277\n",
            "alpha:  1.1292432346572343   test_r2   0.9751\n",
            "alpha:  2.4826685741222443   test_neg_mean_absolute_error   -5.3045\n",
            "alpha:  2.4826685741222443   test_neg_mean_squared_error   -61.8069\n",
            "alpha:  2.4826685741222443   test_neg_root_mean_squared_error   -7.6983\n",
            "alpha:  2.4826685741222443   test_r2   0.9712\n",
            "alpha:  5.458206929887044   test_neg_mean_absolute_error   -7.4374\n",
            "alpha:  5.458206929887044   test_neg_mean_squared_error   -96.4868\n",
            "alpha:  5.458206929887044   test_neg_root_mean_squared_error   -9.7237\n",
            "alpha:  5.458206929887044   test_r2   0.955\n",
            "alpha:  12.0   test_neg_mean_absolute_error   -12.7174\n",
            "alpha:  12.0   test_neg_mean_squared_error   -238.3253\n",
            "alpha:  12.0   test_neg_root_mean_squared_error   -15.3918\n",
            "alpha:  12.0   test_r2   0.8887\n"
          ]
        }
      ]
    },
    {
      "cell_type": "code",
      "source": [
        "from sklearn.linear_model import Lasso\n",
        "las = Lasso(alpha=0.1, max_iter=100000)\n",
        "estimator3 = Pipeline([('scaler', s), ('lasso_regression', las)])\n",
        "scoring = ['neg_mean_squared_error','r2','neg_root_mean_squared_error', 'neg_mean_absolute_error' ]\n",
        "score = cross_validate(estimator3, X, y, scoring=scoring, cv=kf)"
      ],
      "metadata": {
        "id": "8r2nsYa-nijq"
      },
      "execution_count": 107,
      "outputs": []
    },
    {
      "cell_type": "code",
      "source": [
        "k = sorted(score.keys())\n",
        "for i in range(2,len(k)):\n",
        "      print( round(np.mean(score[k[i]]),4))"
      ],
      "metadata": {
        "colab": {
          "base_uri": "https://localhost:8080/"
        },
        "id": "H455IQOGnsFx",
        "outputId": "593ab0d1-072e-4ea6-be74-d92636034880"
      },
      "execution_count": 108,
      "outputs": [
        {
          "output_type": "stream",
          "name": "stdout",
          "text": [
            "-5.0333\n",
            "-57.4417\n",
            "-7.4353\n",
            "0.9728\n"
          ]
        }
      ]
    },
    {
      "cell_type": "code",
      "source": [
        "adj_score= 1 - ( 1-(0.9711) ) * ( len(y) - 1 ) / ( len(y) - X.shape[1] - 1 )\n",
        "adj_score"
      ],
      "metadata": {
        "colab": {
          "base_uri": "https://localhost:8080/"
        },
        "id": "gFMHjaeQ8vsq",
        "outputId": "cf57e860-a721-4213-e544-5b25a8e2e981"
      },
      "execution_count": null,
      "outputs": [
        {
          "output_type": "execute_result",
          "data": {
            "text/plain": [
              "0.970814467184192"
            ]
          },
          "metadata": {},
          "execution_count": 537
        }
      ]
    },
    {
      "cell_type": "code",
      "source": [
        "#Lasso Regression with the best estimator from above\n",
        "best_estimator = Pipeline([('scaler', s), ('lasso_regression', Lasso(alpha=10, max_iter=100000))])\n",
        "\n",
        "best_estimator.fit(X,y)\n",
        "best_estimator.score(X,y)"
      ],
      "metadata": {
        "colab": {
          "base_uri": "https://localhost:8080/"
        },
        "outputId": "05f0ed9a-e920-4c4a-8f1e-403cb1306156",
        "id": "z3ttslgMqu8X"
      },
      "execution_count": null,
      "outputs": [
        {
          "output_type": "execute_result",
          "data": {
            "text/plain": [
              "0.21422875149087328"
            ]
          },
          "metadata": {},
          "execution_count": 536
        }
      ]
    },
    {
      "cell_type": "code",
      "source": [
        "pred = cross_val_predict(estimator3, X, y, cv=kf)"
      ],
      "metadata": {
        "id": "9yVzImVuqhmG"
      },
      "execution_count": null,
      "outputs": []
    },
    {
      "cell_type": "code",
      "source": [
        "plt.scatter(pred, y.values)\n",
        "plt.plot(np.linspace(0,400,400), np.linspace(0,400,400), c = 'purple', linestyle='--')\n",
        "plt.xlabel('prediction')\n",
        "plt.ylabel('true values')\n",
        "plt.xlim(0,400)\n",
        "plt.ylim(0,400)\n",
        "plt.title('Predicted vs True values')"
      ],
      "metadata": {
        "colab": {
          "base_uri": "https://localhost:8080/",
          "height": 312
        },
        "id": "Wd4VoRGxqojR",
        "outputId": "e1b6d162-a7a5-421e-b3ce-87aed48caae8"
      },
      "execution_count": null,
      "outputs": [
        {
          "output_type": "execute_result",
          "data": {
            "text/plain": [
              "Text(0.5, 1.0, 'Predicted vs True values')"
            ]
          },
          "metadata": {},
          "execution_count": 392
        },
        {
          "output_type": "display_data",
          "data": {
            "text/plain": [
              "<Figure size 432x288 with 1 Axes>"
            ],
            "image/png": "[encoded data removed]"
          },
          "metadata": {
            "needs_background": "light"
          }
        }
      ]
    },
    {
      "cell_type": "markdown",
      "source": [
        "####Lasso Regression with Polynomial Regularization"
      ],
      "metadata": {
        "id": "ELAkwezlsQCW"
      }
    },
    {
      "cell_type": "code",
      "source": [
        "from sklearn.preprocessing import PolynomialFeatures\n",
        "from sklearn.linear_model import Lasso\n",
        "from sklearn.pipeline import Pipeline\n",
        "from sklearn.model_selection import KFold\n",
        "from sklearn.model_selection import cross_validate\n",
        "from sklearn.metrics import r2_score\n",
        "from sklearn.preprocessing import StandardScaler\n",
        "\n",
        "pf = PolynomialFeatures(degree=2)\n",
        "s = StandardScaler()\n",
        "\n",
        "alphas = np.geomspace(1, 15, 10)\n",
        "#alphas = np.geomspace(0.001, 10, 5)\n",
        "#alphas = np.geomspace(0.1,12,10)\n",
        "\n",
        "r2 = []\n",
        "\n",
        "for alpha in alphas:\n",
        "  las2 = Lasso(alpha=alpha, max_iter=100000)\n",
        "  scoring = ['neg_mean_squared_error','r2', 'neg_root_mean_squared_error', 'neg_mean_absolute_error' ]\n",
        " \n",
        "  estimator4 = Pipeline([('make_higher_degree', pf), ('scaler', s), ('lasso_regression', las2)])\n",
        "  score = cross_validate(estimator4, X, y, scoring=scoring, cv=kf)\n",
        "  r2.append(score)\n",
        "  k = sorted(score.keys())\n",
        "  \n",
        "  print( \"alpha: \", alpha, \" \")\n",
        "  for i in range(2,len(k)):\n",
        "      print( k[i], \" \",round(np.mean(score[k[i]]),4))\n",
        "  print(\"\\n\")\n"
      ],
      "metadata": {
        "id": "lVFR9RdjZZxX"
      },
      "execution_count": null,
      "outputs": []
    },
    {
      "cell_type": "code",
      "source": [
        "for i in range(0,10):\n",
        "  print(np.mean(r2[i]['test_r2']))"
      ],
      "metadata": {
        "id": "X6L9qmI9kln1",
        "colab": {
          "base_uri": "https://localhost:8080/"
        },
        "outputId": "6543dc9c-d29e-48a5-871b-28eac5448446"
      },
      "execution_count": null,
      "outputs": [
        {
          "output_type": "stream",
          "name": "stdout",
          "text": [
            "0.8291301712525317\n",
            "0.8280115426170681\n",
            "0.8268046581400215\n",
            "0.8254198958667194\n",
            "0.8229804737247447\n",
            "0.8184456974674594\n",
            "0.8101181661835186\n",
            "0.7994141191902674\n",
            "0.7814822495931406\n",
            "0.7492287549293484\n"
          ]
        }
      ]
    },
    {
      "cell_type": "code",
      "source": [
        "las = Lasso(alpha=0.1, max_iter=100000)\n",
        "scoring = ['neg_mean_squared_error','r2', 'neg_root_mean_squared_error', 'neg_mean_absolute_error' ]\n",
        "\n",
        "estimator4 = Pipeline([('make_higher_degree', pf), ('scaler', s), ('lasso_regression', las)])\n",
        "score = cross_validate(estimator4, X, y, scoring=scoring, cv=kf)"
      ],
      "metadata": {
        "id": "mhgtLg4UrKCY"
      },
      "execution_count": 113,
      "outputs": []
    },
    {
      "cell_type": "code",
      "source": [
        "k = sorted(score.keys())\n",
        "for i in range(2,len(k)):\n",
        "      print( round(np.mean(score[k[i]]),4))"
      ],
      "metadata": {
        "colab": {
          "base_uri": "https://localhost:8080/"
        },
        "id": "VrD36gcxrV2g",
        "outputId": "7b05af4b-6f6b-421d-903f-cd15c4f8c4ab"
      },
      "execution_count": 114,
      "outputs": [
        {
          "output_type": "stream",
          "name": "stdout",
          "text": [
            "-2.7355\n",
            "-27.3879\n",
            "-4.8445\n",
            "0.9869\n"
          ]
        }
      ]
    },
    {
      "cell_type": "code",
      "source": [
        "adj_score= 1 - ( 1-(0.826) ) * ( len(y) - 1 ) / ( len(y) - X.shape[1] - 1 )\n",
        "adj_score"
      ],
      "metadata": {
        "id": "Q-Dk9oFYtqb5",
        "colab": {
          "base_uri": "https://localhost:8080/"
        },
        "outputId": "f54a328a-93d9-4607-9074-a312239b3f6f"
      },
      "execution_count": null,
      "outputs": [
        {
          "output_type": "execute_result",
          "data": {
            "text/plain": [
              "0.8212534099066762"
            ]
          },
          "metadata": {},
          "execution_count": 408
        }
      ]
    },
    {
      "cell_type": "code",
      "source": [
        "#Lasso Regression with the best estimator from above\n",
        "best_estimator = Pipeline([('make_higher_degree', PolynomialFeatures(degree=3)), ('scaler', s), ('lasso_regression', Lasso(alpha=10, max_iter=100000))])\n",
        "\n",
        "best_estimator.fit(X,y)\n",
        "best_estimator.score(X,y)"
      ],
      "metadata": {
        "colab": {
          "base_uri": "https://localhost:8080/"
        },
        "id": "QgJaoWf5s2eY",
        "outputId": "be034caa-0ae9-43b5-bd09-59556317f604"
      },
      "execution_count": null,
      "outputs": [
        {
          "output_type": "execute_result",
          "data": {
            "text/plain": [
              "0.7919156628586127"
            ]
          },
          "metadata": {},
          "execution_count": 405
        }
      ]
    },
    {
      "cell_type": "code",
      "source": [
        "pred = cross_val_predict(estimator4, X, y, cv=kf)"
      ],
      "metadata": {
        "id": "m2OtFJfutuOT"
      },
      "execution_count": null,
      "outputs": []
    },
    {
      "cell_type": "code",
      "source": [
        "%matplotlib inline"
      ],
      "metadata": {
        "id": "M0EWaQS25ro3"
      },
      "execution_count": null,
      "outputs": []
    },
    {
      "cell_type": "code",
      "source": [
        "plt.scatter(pred, y.values)\n",
        "plt.plot(np.linspace(0,400,400), np.linspace(0,400,400), c = 'purple', linestyle='--')\n",
        "plt.xlabel('prediction')\n",
        "plt.ylabel('true values')\n",
        "plt.xlim(0,400)\n",
        "plt.ylim(0,400)\n",
        "plt.title('Predicted vs True values')"
      ],
      "metadata": {
        "colab": {
          "base_uri": "https://localhost:8080/",
          "height": 312
        },
        "id": "4fjYkgNStzub",
        "outputId": "9a281803-6991-43dc-be8f-91fd04cba1c8"
      },
      "execution_count": null,
      "outputs": [
        {
          "output_type": "execute_result",
          "data": {
            "text/plain": [
              "Text(0.5, 1.0, 'Predicted vs True values')"
            ]
          },
          "metadata": {},
          "execution_count": 407
        },
        {
          "output_type": "display_data",
          "data": {
            "text/plain": [
              "<Figure size 432x288 with 1 Axes>"
            ],
            "image/png": "[encoded data removed]"
          },
          "metadata": {
            "needs_background": "light"
          }
        }
      ]
    },
    {
      "cell_type": "markdown",
      "source": [
        "####Ridge Regression"
      ],
      "metadata": {
        "id": "DVxryyKAv3tY"
      }
    },
    {
      "cell_type": "code",
      "source": [
        "from sklearn.preprocessing import PolynomialFeatures\n",
        "from matplotlib import pyplot as plt\n",
        "from sklearn.linear_model import Ridge\n",
        "from sklearn.model_selection import GridSearchCV, cross_val_score, KFold\n",
        "\n",
        "poli = 2\n",
        "#alphas = np.geomspace(9, 12, 4)\n",
        "alphas = np.geomspace(5, 20, 10)\n",
        "#alphas = np.geomspace(0.1,2,20)\n",
        "\n",
        "adj_r2=[]\n",
        "\n",
        "pf = PolynomialFeatures(poli)\n",
        "for alpha in alphas:\n",
        "  rid = Ridge(alpha=alpha, max_iter=100000)\n",
        "\n",
        "  scoring = ['neg_mean_squared_error','r2', 'neg_root_mean_squared_error', 'neg_mean_absolute_error' ]\n",
        "  estimator = Pipeline([('make_higher_degree', pf), ('scaler', s), ('ridge_regression', rid)])\n",
        "  score = cross_validate(estimator, X, y, scoring=scoring, cv=kf)\n",
        "  # print(score['test_r2'])\n",
        "\n",
        "  adj_score= 1 - ( 1-np.mean(score['test_r2'])) * ( len(y) - 1 ) / ( len(y) - X.shape[1] - 1 )\n",
        "  adj_r2.append(adj_score)\n",
        "  print(adj_score)\n",
        "\n",
        "  k = sorted(score.keys())\n",
        "  print( \"alpha: \", alpha, \" \")\n",
        "  for i in range(2,len(k)):\n",
        "      print( k[i], \" \",round(np.mean(score[k[i]]),4))\n",
        "  print(\"\\n\")"
      ],
      "metadata": {
        "id": "l0m0EUtopGGR",
        "colab": {
          "base_uri": "https://localhost:8080/"
        },
        "outputId": "ebea2b86-4a3c-41e7-cc2e-a1d63f3bd52f"
      },
      "execution_count": null,
      "outputs": [
        {
          "output_type": "stream",
          "name": "stdout",
          "text": [
            "0.9846241747226402\n",
            "alpha:  5.0  \n",
            "test_neg_mean_absolute_error   -2.5994\n",
            "test_neg_mean_squared_error   -32.6928\n",
            "test_neg_root_mean_squared_error   -5.3579\n",
            "test_r2   0.9849\n",
            "\n",
            "\n",
            "0.9846245052036922\n",
            "alpha:  5.832645197880583  \n",
            "test_neg_mean_absolute_error   -2.5995\n",
            "test_neg_mean_squared_error   -32.6935\n",
            "test_neg_root_mean_squared_error   -5.3576\n",
            "test_r2   0.9849\n",
            "\n",
            "\n",
            "0.9846222785733024\n",
            "alpha:  6.803950000871885  \n",
            "test_neg_mean_absolute_error   -2.6006\n",
            "test_neg_mean_squared_error   -32.6994\n",
            "test_neg_root_mean_squared_error   -5.3578\n",
            "test_r2   0.9849\n",
            "\n",
            "\n",
            "0.9846171790156971\n",
            "alpha:  7.9370052598409995  \n",
            "test_neg_mean_absolute_error   -2.6029\n",
            "test_neg_mean_squared_error   -32.7113\n",
            "test_neg_root_mean_squared_error   -5.3586\n",
            "test_r2   0.9849\n",
            "\n",
            "\n",
            "0.9846088355454524\n",
            "alpha:  9.258747122872906  \n",
            "test_neg_mean_absolute_error   -2.606\n",
            "test_neg_mean_squared_error   -32.7298\n",
            "test_neg_root_mean_squared_error   -5.3602\n",
            "test_r2   0.9849\n",
            "\n",
            "\n",
            "0.9845968212490984\n",
            "alpha:  10.800597388923064  \n",
            "test_neg_mean_absolute_error   -2.6102\n",
            "test_neg_mean_squared_error   -32.756\n",
            "test_neg_root_mean_squared_error   -5.3625\n",
            "test_r2   0.9849\n",
            "\n",
            "\n",
            "0.9845806534572201\n",
            "alpha:  12.599210498948734  \n",
            "test_neg_mean_absolute_error   -2.6153\n",
            "test_neg_mean_squared_error   -32.7906\n",
            "test_neg_root_mean_squared_error   -5.3658\n",
            "test_r2   0.9849\n",
            "\n",
            "\n",
            "0.9845597935578585\n",
            "alpha:  14.697344922755992  \n",
            "test_neg_mean_absolute_error   -2.6218\n",
            "test_neg_mean_squared_error   -32.835\n",
            "test_neg_root_mean_squared_error   -5.3701\n",
            "test_r2   0.9848\n",
            "\n",
            "\n",
            "0.9845336449897897\n",
            "alpha:  17.14487965706146  \n",
            "test_neg_mean_absolute_error   -2.6302\n",
            "test_neg_mean_squared_error   -32.8902\n",
            "test_neg_root_mean_squared_error   -5.3755\n",
            "test_r2   0.9848\n",
            "\n",
            "\n",
            "0.9845015481489858\n",
            "alpha:  20.0  \n",
            "test_neg_mean_absolute_error   -2.6401\n",
            "test_neg_mean_squared_error   -32.9578\n",
            "test_neg_root_mean_squared_error   -5.3823\n",
            "test_r2   0.9848\n",
            "\n",
            "\n"
          ]
        }
      ]
    },
    {
      "cell_type": "code",
      "source": [
        "from sklearn.linear_model import Ridge\n",
        "rid = Ridge(alpha=1, max_iter=100000)\n",
        "scoring = ['neg_mean_squared_error','r2', 'neg_root_mean_squared_error', 'neg_mean_absolute_error' ]\n",
        "estimator5 = Pipeline([('make_higher_degree', pf), ('scaler', s), ('ridge_regression', rid)])\n",
        "score = cross_validate(estimator5, X, y, scoring=scoring, cv=kf)\n",
        "score"
      ],
      "metadata": {
        "id": "0bhvZzSGYD1L",
        "colab": {
          "base_uri": "https://localhost:8080/"
        },
        "outputId": "6f5a4a5f-85dd-40e9-df14-04d1aa2e2e20"
      },
      "execution_count": 115,
      "outputs": [
        {
          "output_type": "execute_result",
          "data": {
            "text/plain": [
              "{'fit_time': array([0.01192093, 0.00917292, 0.00941038, 0.00942755, 0.0093534 ,\n",
              "        0.00917912, 0.00983071, 0.00942564, 0.00925326, 0.00918484]),\n",
              " 'score_time': array([0.00374508, 0.00985122, 0.00329995, 0.00320697, 0.00362539,\n",
              "        0.00324678, 0.00324178, 0.00323343, 0.00316095, 0.00331473]),\n",
              " 'test_neg_mean_squared_error': array([ -9.29710858,  -9.91427319, -10.74383467, -11.53546294,\n",
              "        -12.01476536, -52.61272078, -12.39942165,  -8.4974684 ,\n",
              "        -57.48383028, -59.62797165]),\n",
              " 'test_r2': array([0.9960527 , 0.99466232, 0.99543357, 0.99457059, 0.99475748,\n",
              "        0.97570546, 0.99344013, 0.99577163, 0.97417537, 0.96915713]),\n",
              " 'test_neg_root_mean_squared_error': array([-3.04911603, -3.14869389, -3.27777892, -3.39638969, -3.46623216,\n",
              "        -7.25346268, -3.52128125, -2.91504175, -7.58180917, -7.72191502]),\n",
              " 'test_neg_mean_absolute_error': array([-2.15627081, -2.27218997, -2.14901682, -2.28247658, -2.30687905,\n",
              "        -2.93637739, -2.45005466, -2.04743171, -3.01397369, -2.82511403])}"
            ]
          },
          "metadata": {},
          "execution_count": 115
        }
      ]
    },
    {
      "cell_type": "code",
      "source": [
        "best_estimator = Pipeline([('make_higher_degree', PolynomialFeatures(degree=2, include_bias=False)), ('scaler', s), ('ridge_regression', Ridge(alpha=10))])\n",
        "\n",
        "best_estimator.fit(X,y)\n",
        "best_estimator.score(X,y)"
      ],
      "metadata": {
        "colab": {
          "base_uri": "https://localhost:8080/"
        },
        "id": "VKi9NKanwbpN",
        "outputId": "2fa1ca04-83ec-47f7-e96f-ba280617b9bb"
      },
      "execution_count": null,
      "outputs": [
        {
          "output_type": "execute_result",
          "data": {
            "text/plain": [
              "0.8540919751512613"
            ]
          },
          "metadata": {},
          "execution_count": 418
        }
      ]
    },
    {
      "cell_type": "code",
      "source": [
        "pred = cross_val_predict(estimator5, X, y, cv=kf)"
      ],
      "metadata": {
        "id": "RyePwN-3yzX-"
      },
      "execution_count": null,
      "outputs": []
    },
    {
      "cell_type": "code",
      "source": [
        "plt.scatter(pred, y.values)\n",
        "plt.plot(np.linspace(0,400,400), np.linspace(0,400,400), c = 'purple', linestyle='--')\n",
        "plt.xlabel('prediction')\n",
        "plt.ylabel('true values')\n",
        "plt.xlim(0,400)\n",
        "plt.ylim(0,400)\n",
        "plt.title('Predicted vs True values')"
      ],
      "metadata": {
        "colab": {
          "base_uri": "https://localhost:8080/",
          "height": 312
        },
        "id": "vv9ZGD3Cy1hq",
        "outputId": "e8d4ce05-06a6-434b-9c5e-b5ab1ba0e3e6"
      },
      "execution_count": null,
      "outputs": [
        {
          "output_type": "execute_result",
          "data": {
            "text/plain": [
              "Text(0.5, 1.0, 'Predicted vs True values')"
            ]
          },
          "metadata": {},
          "execution_count": 420
        },
        {
          "output_type": "display_data",
          "data": {
            "text/plain": [
              "<Figure size 432x288 with 1 Axes>"
            ],
            "image/png": "[encoded data removed]"
          },
          "metadata": {
            "needs_background": "light"
          }
        }
      ]
    },
    {
      "cell_type": "markdown",
      "source": [
        "#### Gradient Boosting Regression"
      ],
      "metadata": {
        "id": "RYVbtSpgneJ0"
      }
    },
    {
      "cell_type": "code",
      "source": [
        "from sklearn.ensemble import GradientBoostingRegressor\n",
        "from sklearn.pipeline import Pipeline\n",
        "\n",
        "gbr_params = {'n_estimators': 2000,\n",
        "          'max_depth': 2,\n",
        "          'min_samples_split': 5,\n",
        "          'learning_rate': 0.01,\n",
        "          'loss': 'ls'}\n",
        "scores = []\n",
        "gbr = GradientBoostingRegressor(**gbr_params)\n",
        "s = StandardScaler()\n",
        "scoring = ['neg_mean_squared_error','r2', 'neg_root_mean_squared_error', 'neg_mean_absolute_error' ]\n",
        "estimator6 = Pipeline([('scaler', s), ('gbr_regression', gbr)])\n",
        "score = cross_validate(estimator6, X, y, scoring=scoring, cv=kf)"
      ],
      "metadata": {
        "id": "Kq5U-__knhxQ"
      },
      "execution_count": 116,
      "outputs": []
    },
    {
      "cell_type": "code",
      "source": [
        "k = sorted(score.keys())\n",
        "for i in range(2,len(k)):\n",
        "    print( k[i], \" \",round(np.mean(score[k[i]]),4))\n",
        "adj_score= 1 - ( 1-np.mean(score['test_r2'])) * ( len(y) - 1 ) / ( len(y) - X.shape[1] - 1 )\n",
        "print(adj_score)"
      ],
      "metadata": {
        "colab": {
          "base_uri": "https://localhost:8080/"
        },
        "id": "_kJ4HqedmUip",
        "outputId": "98029c71-4920-4aec-b8bc-7a3929b91ee4"
      },
      "execution_count": 47,
      "outputs": [
        {
          "output_type": "stream",
          "name": "stdout",
          "text": [
            "test_neg_mean_absolute_error   -3.3023\n",
            "test_neg_mean_squared_error   -43.0355\n",
            "test_neg_root_mean_squared_error   -6.3407\n",
            "test_r2   0.9797\n",
            "0.97909797094945\n"
          ]
        }
      ]
    },
    {
      "cell_type": "code",
      "source": [
        "best_estimator = Pipeline([('scaler', s), ('ridge_regression', GradientBoostingRegressor(**gbr_params))])\n",
        "\n",
        "best_estimator.fit(X,y)\n",
        "best_estimator.score(X,y)"
      ],
      "metadata": {
        "colab": {
          "base_uri": "https://localhost:8080/"
        },
        "id": "4VBJ1kddqD4-",
        "outputId": "90e8199c-84c1-4899-95f7-71ee6a04faff"
      },
      "execution_count": null,
      "outputs": [
        {
          "output_type": "execute_result",
          "data": {
            "text/plain": [
              "0.9884163520375345"
            ]
          },
          "metadata": {},
          "execution_count": 47
        }
      ]
    },
    {
      "cell_type": "code",
      "source": [
        "pred = cross_val_predict(estimator6, X, y, cv=kf)"
      ],
      "metadata": {
        "id": "0ZEHL9BT750V"
      },
      "execution_count": null,
      "outputs": []
    },
    {
      "cell_type": "code",
      "source": [
        "%matplotlib inline"
      ],
      "metadata": {
        "id": "qCXXvJnOQ4ZG"
      },
      "execution_count": null,
      "outputs": []
    },
    {
      "cell_type": "code",
      "source": [
        "plt.scatter(pred, y.values)\n",
        "plt.plot(np.linspace(0,400,400), np.linspace(0,400,400), c = 'purple', linestyle='--')\n",
        "plt.xlabel('prediction')\n",
        "plt.ylabel('true values')\n",
        "plt.xlim(0,400)\n",
        "plt.ylim(0,400)\n",
        "plt.title('Predicted vs True values')\n"
      ],
      "metadata": {
        "colab": {
          "base_uri": "https://localhost:8080/",
          "height": 312
        },
        "id": "vD68cnIU78az",
        "outputId": "228b1b3e-bbc1-4ead-c689-4232d8505f46"
      },
      "execution_count": null,
      "outputs": [
        {
          "output_type": "execute_result",
          "data": {
            "text/plain": [
              "Text(0.5, 1.0, 'Predicted vs True values')"
            ]
          },
          "metadata": {},
          "execution_count": 49
        },
        {
          "output_type": "display_data",
          "data": {
            "text/plain": [
              "<Figure size 432x288 with 1 Axes>"
            ],
            "image/png": "[encoded data removed]"
          },
          "metadata": {
            "needs_background": "light"
          }
        }
      ]
    },
    {
      "cell_type": "markdown",
      "source": [
        "### Algorithmic Comparison"
      ],
      "metadata": {
        "id": "SBW_rUJZPPUl"
      }
    },
    {
      "cell_type": "code",
      "source": [
        "# prepare configuration for cross validation test harness\n",
        "random_state=72118 #seed\n",
        "# prepare models\n",
        "models = []\n",
        "models.append(('LR', lr1))\n",
        "models.append(('LR-REG', estimator1))\n",
        "models.append(('POLY', estimator2))\n",
        "models.append(('LAS-REG', estimator3))\n",
        "models.append(('LAS-POLY', estimator4))\n",
        "models.append(('RID', estimator5))\n",
        "models.append(('GBR', estimator6))\n",
        "# evaluate each model in turn\n",
        "results = []\n",
        "names = []\n",
        "# scoring = 'accuracy'\n",
        "for name, model in models:\n",
        "\tkfold = KFold(n_splits=10, random_state=72118, shuffle=True)\n",
        "\tcv_results = cross_val_score(model, X, y, cv=kfold)\n",
        "\tresults.append(cv_results)\n",
        "\tnames.append(name)\n",
        "\tmsg = \"%s: %f (%f)\" % (name, cv_results.mean(), cv_results.std())\n",
        "\tprint(msg)"
      ],
      "metadata": {
        "colab": {
          "base_uri": "https://localhost:8080/"
        },
        "id": "YyLojnqJPWTF",
        "outputId": "e1070893-fffd-4a39-bafb-ac8c2df435a2"
      },
      "execution_count": 120,
      "outputs": [
        {
          "output_type": "stream",
          "name": "stdout",
          "text": [
            "LR: 0.977270 (0.011140)\n",
            "LR-REG: 0.977233 (0.011117)\n",
            "POLY: 0.988385 (0.009398)\n",
            "LAS-REG: 0.972802 (0.011036)\n",
            "LAS-POLY: 0.986946 (0.010915)\n",
            "RID: 0.988373 (0.010194)\n",
            "GBR: 0.986651 (0.009180)\n"
          ]
        }
      ]
    },
    {
      "cell_type": "code",
      "source": [
        "# boxplot algorithm comparison\n",
        "fig = plt.figure()\n",
        "fig.suptitle('Algorithm Comparison')\n",
        "ax = fig.add_subplot(111)\n",
        "plt.boxplot(results)\n",
        "ax.set_xticklabels(names)\n",
        "plt.show()"
      ],
      "metadata": {
        "colab": {
          "base_uri": "https://localhost:8080/",
          "height": 663
        },
        "id": "f_5GgoNIUu_2",
        "outputId": "a748e3da-d42f-4350-fe66-81f10bf6795a"
      },
      "execution_count": 121,
      "outputs": [
        {
          "output_type": "display_data",
          "data": {
            "text/plain": [
              "<Figure size 576x720 with 1 Axes>"
            ],
            "image/png": "[encoded data removed]"
          },
          "metadata": {
            "needs_background": "light"
          }
        }
      ]
    }
  ]
}